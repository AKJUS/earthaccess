{
 "cells": [
  {
   "cell_type": "markdown",
   "id": "56ba2387-54e8-4aa5-aedb-c7d90644536f",
   "metadata": {},
   "source": [
    "# NASA Earthdata API Client 🌍\n",
    "\n",
    "CMR API documentation: https://cmr.earthdata.nasa.gov/search/site/docs/search/api.html\n",
    "\n",
    "EDL API documentation: https://urs.earthdata.nasa.gov/\n",
    "\n",
    "NASA OpenScapes: https://nasa-openscapes.github.io/earthdata-cloud-cookbook/\n",
    "\n",
    "## Overview\n",
    "\n",
    "> TL;DR: **earthdata** makes use of NASA APIs to search, preview and access NASA datasets on-prem and in the cloud with 4 lines of Python.\n",
    "\n",
    "There are many ways to access NASA datasets, we can use the Earthdata search portal. We can use DAAC specific portals or tools.\n",
    "We could even use data.gov! These web portals are great but... they are not designed for programmatic access and reproducible workflows. \n",
    "This is extremly important in the age of the cloud and reproducible open science.\n",
    "\n",
    "The good news is that NASA also exposes APIs that allows us to search, transform and access data in a programmatic way. \n",
    "There are already some very useful client libraries for these APIs:\n",
    "\n",
    "* python-cmr\n",
    "* eo-metadata-tools\n",
    "* harmony-py\n",
    "* Hyrax\n",
    "* others\n",
    "\n",
    "Each of these libraries has amazing features and some similarities but they miss the glue to take a researcher all the way from searching to getting the data. *Harmony-py* is probably the most complete client of the list and the future for cloud-based workflows but as of today it only serves a small number of datasets.\n",
    "\n",
    "\n",
    "### CMR: How good is anything if we can't find it?\n",
    "\n",
    "\n",
    "### Collections\n",
    "\n",
    "### Granules\n",
    "\n",
    "### UMM\n",
    "\n",
    "### EDL\n",
    "\n",
    "### Data Formats and Cloud Access\n",
    "\n",
    "## A Python client for NASA's APIs\n"
   ]
  },
  {
   "cell_type": "code",
   "execution_count": 1,
   "id": "2acb1926-3442-446a-8a35-fcbba8868d4d",
   "metadata": {
    "tags": []
   },
   "outputs": [
    {
     "name": "stdin",
     "output_type": "stream",
     "text": [
      "Enter your Earthdata Login username:  betolink\n",
      "Enter your Earthdata password:  ········\n"
     ]
    },
    {
     "name": "stdout",
     "output_type": "stream",
     "text": [
      "You're now authenticated with NASA Earthdata Login\n"
     ]
    }
   ],
   "source": [
    "from earthdata import Auth, DataGranules, DataCollections, Accessor\n",
    "auth = Auth()"
   ]
  },
  {
   "cell_type": "markdown",
   "id": "1c0502ba-d660-413f-a4bf-003da9f527b7",
   "metadata": {},
   "source": [
    "## Querying for collections\n",
    "The DataCollection client can query CMR for any collection using all of CMR's Query parameters and has built-in accessors for the common ones.\n",
    "This makes it ideal for one liners and easier notation.\n",
    "\n",
    "```python\n",
    "auth = Auth()\n",
    "collections = DataCollections(auth).short_name('MODIS').get(10)\n",
    "collections\n",
    "```"
   ]
  },
  {
   "cell_type": "markdown",
   "id": "5f90db80-f58d-4fa6-a740-5a8a15dbed54",
   "metadata": {},
   "source": [
    "We can filter fields, if we want the full UMM fileds we use a * symbol."
   ]
  },
  {
   "cell_type": "code",
   "execution_count": null,
   "id": "8d5bf4c9-571b-4c93-af94-e66bd51cb584",
   "metadata": {},
   "outputs": [],
   "source": [
    "# We can now search for collections using a pythonic API client for CMR.\n",
    "# Query = DataCollections(auth).keyword('fire').temporal(\"2016-01-01\", \"2020-12-12\")\n",
    "# Query = DataCollections(auth).keyword('GEDI').bounding_box(-134.7,58.9,-133.9,59.2)\n",
    "\n",
    "Query = DataCollections(auth).keyword('elevation').bounding_box(-134.7,58.9,-133.9,59.2)\n",
    "\n",
    "print(f'Collections found: {Query.hits()}')\n",
    "\n",
    "collections = Query.fields(['ShortName','Abstract']).get(10)\n",
    "# Inspect 5 results printing just the ShortName and Abstract\n",
    "collections[0:5]"
   ]
  },
  {
   "cell_type": "code",
   "execution_count": null,
   "id": "8cb5154c-f131-44ad-a68f-cf0fa21ce18f",
   "metadata": {},
   "outputs": [],
   "source": [
    "collections[0][\"umm.ShortName\"]"
   ]
  },
  {
   "cell_type": "markdown",
   "id": "28d45a6f-ac37-4744-bcfe-88ac3dd6ac07",
   "metadata": {},
   "source": [
    "The DataCollections class returns python dictionaries with some handy methods.\n",
    "\n",
    "```python \n",
    "collection.concept_id() # returns the concept-id, used to search for data granules\n",
    "collection.abstract() # returns the abstract\n",
    "collection.landing_page() # returns the landing page if present in the UMM fields\n",
    "collection.get_data() # returns the portal where data can be accessed.\n",
    "```\n",
    "\n",
    "The same results can be obtained using the `dict` syntax:\n",
    "\n",
    "```python\n",
    "collection[\"meta\"][\"concept-id\"] # concept-id\n",
    "collection[\"umm\"][\"RelatedUrls\"] # URLs, with GET DATA, LANDING PAGE etc\n",
    "```\n"
   ]
  },
  {
   "cell_type": "code",
   "execution_count": null,
   "id": "48cdcd74-dfe3-4b83-93f4-7378a0d981df",
   "metadata": {
    "tags": []
   },
   "outputs": [],
   "source": [
    "# We can now search for collections using a pythonic API client for CMR.\n",
    "# Query = DataCollections(auth).provider('POCLOUD')\n",
    "Query = DataCollections(auth).short_name(\"ASTGTM\")\n",
    "\n",
    "print(f'Collections found: {Query.hits()}')\n",
    "collections = Query.fields(['ShortName']).get(20)\n",
    "# Printing 3 collections\n",
    "collections[0]"
   ]
  },
  {
   "cell_type": "code",
   "execution_count": null,
   "id": "c4c5a34a-e808-4cc9-b34d-353d091a8242",
   "metadata": {},
   "outputs": [],
   "source": [
    "# Printing the concept-id for the first 10 collections\n",
    "[collection.concept_id() for collection in collections[0:10]]"
   ]
  },
  {
   "cell_type": "markdown",
   "id": "4bb9c3bb-ac8b-48e8-8233-8c44da8fb7bc",
   "metadata": {},
   "source": [
    "## Querying for data granules\n",
    "\n",
    "The DataGranules class provides similar functionality as the collection class. To query for granules in a more reliable way concept-id would be the main key.\n",
    "You can search data granules using a short name but that could (more likely will) return different versions of the same data granules. \n",
    "\n",
    "In this example we're querying for 20 data grnaules from ICESat-2 [ATL03](https://nsidc.org/data/ATL03/versions/) version `\"003\"` dataset. "
   ]
  },
  {
   "cell_type": "code",
   "execution_count": null,
   "id": "9364d737-5a79-4089-853f-76d2ad1c85a7",
   "metadata": {},
   "outputs": [],
   "source": [
    "# Query = DataGranules().short_name('ATL03').version(\"003\")\n",
    "# Query = DataGranules().short_name('ASTGTM')\n",
    "\n",
    "granules = Query.get(20)\n",
    "\n",
    "[display(g) for g in granules[0:6]]"
   ]
  },
  {
   "cell_type": "markdown",
   "id": "ec8f32a4-026d-4a5f-af66-69026cabe966",
   "metadata": {},
   "source": [
    "### Spatiotemporal queries\n",
    "\n",
    "Our granules and collection classes accept the same spatial and temporal argumenst as CMR so we can search for granules that match spatiotemporal criteria.\n",
    "\n"
   ]
  },
  {
   "cell_type": "code",
   "execution_count": null,
   "id": "00aa39ec-e2fb-49d1-bc54-8d8a2f0655aa",
   "metadata": {},
   "outputs": [],
   "source": [
    "Query = DataGranules().short_name(\"ATL03\").temporal(\"2020-03-01\", \"2020-03-30\").bounding_box(-134.7,58.9,-133.9,59.2).version(\"003\")\n",
    "print(f\"Granules found: {Query.hits()}\")"
   ]
  },
  {
   "cell_type": "code",
   "execution_count": null,
   "id": "8c493585-0d48-41bb-8815-6c83ad20ae80",
   "metadata": {},
   "outputs": [],
   "source": [
    "# Now we can print some info about these granules using the built-in methods\n",
    "granules = Query.get(4)\n",
    "data_links = [{'links': g.data_links(), 'size (MB):': g.size()} for g in granules]\n",
    "data_links"
   ]
  },
  {
   "cell_type": "code",
   "execution_count": null,
   "id": "33561749-1a66-4f37-8490-0a1e7e137376",
   "metadata": {},
   "outputs": [],
   "source": [
    "[display(g) for g in granules]"
   ]
  },
  {
   "cell_type": "code",
   "execution_count": null,
   "id": "e3f3526f-4255-43e4-b5e2-7f926216e27d",
   "metadata": {},
   "outputs": [],
   "source": [
    "# C1908348134-LPDAAC_ECS: GEDI L2A Elevation and Height Metrics Data Global Footprint Level V002\n",
    "# C1968980609-POCLOUD: Sentinel-6A MF Jason-CS L2 P4 Altimeter Low Resolution (LR) STC Ocean Surface Topography\n",
    "# C1575731655-LPDAAC_ECS: ASTER Global Digital Elevation Model NetCDF V003\n",
    "# Query = DataGranules(auth).short_name('ATL03').version(\"003\")\n",
    "Query = DataGranules(auth).short_name('ATL03').version(\"003\").bounding_box(-134.7,58.9,-133.9,59.2)\n",
    "# Query = DataGranules(auth).concept_id(\"C1968980609-POCLOUD\").bounding_box(-134.7,58.9,-133.9,59.2)\n",
    "print(f\"Granules found: {Query.hits()}\")"
   ]
  },
  {
   "cell_type": "code",
   "execution_count": null,
   "id": "4eafb81a-07da-439b-8daa-d23f55d6f42d",
   "metadata": {},
   "outputs": [],
   "source": [
    "# Not all granules have data previews, if they have the granule class will show up to 2 preview images while using Jupyter's display() function\n",
    "granules = Query.get(20)\n",
    "[display(g) for g in granules[0:5]]"
   ]
  },
  {
   "cell_type": "code",
   "execution_count": null,
   "id": "d09094e5-3974-40c0-a99f-99f59d383cc7",
   "metadata": {},
   "outputs": [],
   "source": [
    "# Granules are python dictionaries, with fancy nested key/value notation and some extra built-in methods.\n",
    "granules[0][\"umm.TemporalExtent.RangeDateTime\"]"
   ]
  },
  {
   "cell_type": "code",
   "execution_count": null,
   "id": "4a344149-8718-4dc6-b962-75409318a601",
   "metadata": {},
   "outputs": [],
   "source": [
    "# Size in MB\n",
    "data_links = [{'links': g.data_links(), 'size (MB):': g.size()} for g in granules]\n",
    "data_links"
   ]
  },
  {
   "cell_type": "markdown",
   "id": "f7c90c43-6e17-42f5-8bf5-95fdd3cb0dce",
   "metadata": {},
   "source": [
    "## **Accessing the data**: *How I Learned to Stop Worrying and Love the Cloud* **\n",
    "\n",
    " \n",
    "* ** Terms and conditions may and will apply"
   ]
  },
  {
   "cell_type": "code",
   "execution_count": null,
   "id": "b796fa53-60ac-4197-922d-1f6ee5dec00b",
   "metadata": {},
   "outputs": [],
   "source": [
    "# Accessing not necessarily means downloading, specially in the cloud.\n",
    "access = Accessor(auth)"
   ]
  },
  {
   "cell_type": "code",
   "execution_count": null,
   "id": "1dc02b80-40c2-432d-b062-41a82eca8261",
   "metadata": {},
   "outputs": [],
   "source": [
    "granules[0].cloud_hosted"
   ]
  },
  {
   "cell_type": "code",
   "execution_count": null,
   "id": "2a3afc1a-145e-4084-9c93-dd9e1eff3c85",
   "metadata": {},
   "outputs": [],
   "source": [
    "files = access.get(granules)"
   ]
  },
  {
   "cell_type": "code",
   "execution_count": null,
   "id": "c1f5f4f6-931a-43d2-80b2-f5a8ec4bd664",
   "metadata": {},
   "outputs": [],
   "source": [
    "import xarray as xr\n",
    "\n",
    "\n",
    "ds = xr.open_mfdataset('./data/*.nc', concat_dim=[..., None, ...] )\n",
    "print(ds)"
   ]
  },
  {
   "cell_type": "code",
   "execution_count": null,
   "id": "83db5b41-e627-434a-aeb3-8c0a109c5599",
   "metadata": {},
   "outputs": [],
   "source": [
    "ds.ASTER_GDEM_DEM.plot()"
   ]
  },
  {
   "cell_type": "markdown",
   "id": "d276eca3-ca27-4970-9367-7e65e5f2302f",
   "metadata": {},
   "source": [
    "## Recap\n",
    "\n",
    "```python\n",
    "from earthdata import Auth, DataGranules, DataCollections, Accessor\n",
    "auth = Auth()\n",
    "access = Accessor(auth)\n",
    "\n",
    "Query = DataGranules(auth).concept_id(\"C1575731655-LPDAAC_ECS\").bounding_box(-134.7,58.9,-133.9,59.2)\n",
    "granules = Query.get(10)\n",
    "# preview the data granules\n",
    "granules \n",
    "# get the files\n",
    "files = access.get(granules)\n",
    "\n",
    "\n",
    "```\n",
    "\n",
    "**Wait, we said 4 lines of python, we meant 3!**\n",
    "\n",
    "```python\n",
    "\n",
    "from earthdata import Auth, DataGranules, DataCollections, Accessor\n",
    "auth = Auth()\n",
    "files = Accessor(auth).get(DataGranules().concept_id(\"C1575731655-LPDAAC_ECS\").bounding_box(-134.7,58.9,-133.9,59.2).get(10))\n",
    "\n",
    "# Profit!\n",
    "```"
   ]
  },
  {
   "cell_type": "code",
   "execution_count": null,
   "id": "1f1e550f-f6bc-4386-95ea-bd3723a6ced0",
   "metadata": {},
   "outputs": [],
   "source": [
    "from earthdata import Auth, DataGranules, DataCollections, Accessor\n",
    "auth = Auth()\n",
    "files = Accessor(auth).get(DataGranules().concept_id(\"C1575731655-LPDAAC_ECS\").bounding_box(-134.7,58.9,-133.9,59.2).get(10))"
   ]
  }
 ],
 "metadata": {
  "kernelspec": {
   "display_name": "Python 3 (ipykernel)",
   "language": "python",
   "name": "python3"
  },
  "language_info": {
   "codemirror_mode": {
    "name": "ipython",
    "version": 3
   },
   "file_extension": ".py",
   "mimetype": "text/x-python",
   "name": "python",
   "nbconvert_exporter": "python",
   "pygments_lexer": "ipython3",
   "version": "3.8.12"
  }
 },
 "nbformat": 4,
 "nbformat_minor": 5
}
