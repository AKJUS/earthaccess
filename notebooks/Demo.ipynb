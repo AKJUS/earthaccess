{
 "cells": [
  {
   "cell_type": "markdown",
   "id": "56ba2387-54e8-4aa5-aedb-c7d90644536f",
   "metadata": {
    "tags": []
   },
   "source": [
    "# NASA Earthdata API Client 🌍\n",
    "\n",
    "## Overview\n",
    "\n",
    "> TL;DR: **earthdata** is uses NASA APIs to search, preview and access NASA datasets on-prem and in the cloud with 4 lines of Python.\n",
    "\n",
    "There are many ways to access NASA datasets, we can use the Earthdata search portal. We can use DAAC specific portals or tools.\n",
    "We could even use data.gov! These web portals are great but... they are not designed for programmatic access and reproducible workflows. \n",
    "This is extremly important in the age of the cloud and reproducible open science.\n",
    "\n",
    "The good news is that NASA also exposes APIs that allows us to search, transform and access data in a programmatic way. \n",
    "There are already some very useful client libraries for these APIs:\n",
    "\n",
    "* python-cmr\n",
    "* eo-metadata-tools\n",
    "* harmony-py\n",
    "* Hyrax\n",
    "* others\n",
    "\n",
    "Each of these libraries has amazing features and some similarities but they miss the glue to take a researcher all the way from searching to getting the data. *Harmony-py* is probably the most complete client of the list and the future for cloud-based workflows but as of today it only serves a small number of datasets.\n",
    "\n",
    "\n",
    "### Data Formats and Cloud Access\n",
    "\n"
   ]
  },
  {
   "cell_type": "markdown",
   "id": "d6aed5ed-1f7b-46ac-b076-3278b5bc20cd",
   "metadata": {},
   "source": [
    "## Querying for data collections\n",
    "The DataCollection client can query CMR for any collection using all of CMR's Query parameters and has built-in accessors for the common ones.\n",
    "This makes it ideal for one liners and easier notation."
   ]
  },
  {
   "cell_type": "code",
   "execution_count": null,
   "id": "2acb1926-3442-446a-8a35-fcbba8868d4d",
   "metadata": {},
   "outputs": [],
   "source": [
    "# We import the classes from earthdata\n",
    "from earthdata import Auth, DataCollections, DataGranules, Accessor\n",
    "auth = Auth()"
   ]
  },
  {
   "cell_type": "code",
   "execution_count": null,
   "id": "8d5bf4c9-571b-4c93-af94-e66bd51cb584",
   "metadata": {},
   "outputs": [],
   "source": [
    "# We can now search for collections using a pythonic API client for CMR.\n",
    "# Query = DataCollections(auth).keyword('fire').temporal(\"2016-01-01\", \"2020-12-12\")\n",
    "# Query = DataCollections(auth).keyword('GEDI').bounding_box(-134.7,58.9,-133.9,59.2)\n",
    "\n",
    "Query = DataCollections(auth).keyword('elevation').bounding_box(-134.7,58.9,-133.9,59.2)\n",
    "\n",
    "print(f'Collections found: {Query.hits()}')\n",
    "\n",
    "# filtering what UMM fields to print\n",
    "collections = Query.fields(['ShortName','Abstract']).get(10)\n",
    "# Inspect 5 results printing just the ShortName and Abstract\n",
    "collections[0:3]"
   ]
  },
  {
   "cell_type": "code",
   "execution_count": null,
   "id": "8cb5154c-f131-44ad-a68f-cf0fa21ce18f",
   "metadata": {},
   "outputs": [],
   "source": [
    "# the results from DataCollections and DataGranules are enhanced python dict objects, we still can get all the fields from CMR\n",
    "collections[0][\"umm.ShortName\"]"
   ]
  },
  {
   "cell_type": "markdown",
   "id": "28d45a6f-ac37-4744-bcfe-88ac3dd6ac07",
   "metadata": {},
   "source": [
    "The DataCollections class returns python dictionaries with some handy methods.\n",
    "\n",
    "```python \n",
    "collection.concept_id() # returns the concept-id, used to search for data granules\n",
    "collection.abstract() # returns the abstract\n",
    "collection.landing_page() # returns the landing page if present in the UMM fields\n",
    "collection.get_data() # returns the portal where data can be accessed.\n",
    "```\n",
    "\n",
    "The same results can be obtained using the `dict` syntax:\n",
    "\n",
    "```python\n",
    "collection[\"meta\"][\"concept-id\"] # concept-id\n",
    "collection[\"umm\"][\"RelatedUrls\"] # URLs, with GET DATA, LANDING PAGE etc\n",
    "```\n"
   ]
  },
  {
   "cell_type": "code",
   "execution_count": null,
   "id": "48cdcd74-dfe3-4b83-93f4-7378a0d981df",
   "metadata": {},
   "outputs": [],
   "source": [
    "# We can now search for collections using a pythonic API client for CMR.\n",
    "# Query = DataCollections(auth).provider('POCLOUD')\n",
    "Query = DataCollections(auth).provider(\"POCLOUD\")\n",
    "\n",
    "print(f'Collections found: {Query.hits()}')\n",
    "collections = Query.fields(['ShortName']).get(20)\n",
    "# Printing 3 collections\n",
    "collections[0]"
   ]
  },
  {
   "cell_type": "code",
   "execution_count": null,
   "id": "c4c5a34a-e808-4cc9-b34d-353d091a8242",
   "metadata": {},
   "outputs": [],
   "source": [
    "# Printing the concept-id for the first 10 collections\n",
    "[collection.concept_id() for collection in collections[0:10]]"
   ]
  },
  {
   "cell_type": "markdown",
   "id": "4bb9c3bb-ac8b-48e8-8233-8c44da8fb7bc",
   "metadata": {},
   "source": [
    "## Querying for data granules\n",
    "\n",
    "The DataGranules class provides similar functionality as the collection class. To query for granules in a more reliable way concept-id would be the main key.\n",
    "You can search data granules using a short name but that could (more likely will) return different versions of the same data granules. \n",
    "\n",
    "In this example we're querying for 20 data grnaules from ICESat-2  [ATL03](https://nsidc.org/data/ATL03/versions/) version `003` dataset. "
   ]
  },
  {
   "cell_type": "code",
   "execution_count": null,
   "id": "9364d737-5a79-4089-853f-76d2ad1c85a7",
   "metadata": {},
   "outputs": [],
   "source": [
    "# Generally speaking we won't need the auth instance for queries to collections and granules\n",
    "# Query = DataGranules().short_name('ATL03').version(\"003\").bounding_box(-134.7,58.9,-133.9,59.2)\n",
    "\n",
    "Query = DataGranules(auth).short_name('ATL03').version(\"003\").bounding_box(-134.7,58.9,-133.9,59.2)\n",
    "granules = Query.get(20)\n",
    "print(granules[0:2])"
   ]
  },
  {
   "cell_type": "markdown",
   "id": "40aa8035-f4a8-4592-b19c-49d5c06331fb",
   "metadata": {},
   "source": [
    "## Pretty printting data granules\n",
    "\n",
    "Since we are in a notebook we can take advantage of it to see a moew user friendly version of the granules with the built-in function `display`\n",
    "This will render browse image for the granule if available and eventually will have a similar representation as the one from the Earthdata search portal"
   ]
  },
  {
   "cell_type": "code",
   "execution_count": null,
   "id": "66cd5f5c-a854-4a72-a831-33b8bd7ce9d2",
   "metadata": {},
   "outputs": [],
   "source": [
    "# printing 2 granules using display\n",
    "[display(granule) for granule in granules[0:2]]"
   ]
  },
  {
   "cell_type": "markdown",
   "id": "ec8f32a4-026d-4a5f-af66-69026cabe966",
   "metadata": {},
   "source": [
    "### Spatiotemporal queries\n",
    "\n",
    "Our granules and collection classes accept the same spatial and temporal argumenst as CMR so we can search for granules that match spatiotemporal criteria.\n",
    "\n"
   ]
  },
  {
   "cell_type": "code",
   "execution_count": null,
   "id": "00aa39ec-e2fb-49d1-bc54-8d8a2f0655aa",
   "metadata": {},
   "outputs": [],
   "source": [
    "Query = DataGranules().short_name(\"ATL03\").temporal(\"2020-03-01\", \"2020-03-30\").bounding_box(-134.7,58.9,-133.9,59.2).version(\"004\")\n",
    "print(f\"Granules found: {Query.hits()}\")"
   ]
  },
  {
   "cell_type": "code",
   "execution_count": null,
   "id": "8c493585-0d48-41bb-8815-6c83ad20ae80",
   "metadata": {},
   "outputs": [],
   "source": [
    "# Now we can print some info about these granules using the built-in methods\n",
    "granules = Query.get(4)\n",
    "data_links = [{'links': g.data_links(), 'size (MB):': g.size()} for g in granules]\n",
    "data_links"
   ]
  },
  {
   "cell_type": "code",
   "execution_count": null,
   "id": "e3f3526f-4255-43e4-b5e2-7f926216e27d",
   "metadata": {},
   "outputs": [],
   "source": [
    "# More datasets to try\n",
    "\n",
    "# C1908348134-LPDAAC_ECS: GEDI L2A Elevation and Height Metrics Data Global Footprint Level V002\n",
    "# C1968980609-POCLOUD: Sentinel-6A MF Jason-CS L2 P4 Altimeter Low Resolution (LR) STC Ocean Surface Topography\n",
    "# C1575731655-LPDAAC_ECS: ASTER Global Digital Elevation Model NetCDF V003\n",
    "# Query = DataGranules(auth).short_name('ATL03').version(\"003\")\n",
    "Query = DataGranules(auth).short_name('ATL03').version(\"004\").bounding_box(-134.7,58.9,-133.9,59.2)\n",
    "# Query = DataGranules().concept_id(\"C1575731655-LPDAAC_ECS\").bounding_box(-134.7,58.9,-133.9,59.2)\n",
    "print(f\"Granules found: {Query.hits()}\")"
   ]
  },
  {
   "cell_type": "code",
   "execution_count": null,
   "id": "4eafb81a-07da-439b-8daa-d23f55d6f42d",
   "metadata": {},
   "outputs": [],
   "source": [
    "# Not all granules have data previews, if they have the granule class will show up to 2 preview images while using Jupyter's display() function\n",
    "granules = Query.get(10)\n",
    "[display(g) for g in granules[0:5]]"
   ]
  },
  {
   "cell_type": "code",
   "execution_count": null,
   "id": "d09094e5-3974-40c0-a99f-99f59d383cc7",
   "metadata": {},
   "outputs": [],
   "source": [
    "# Granules are python dictionaries, with fancy nested key/value notation and some extra built-in methods.\n",
    "granules[0][\"umm.TemporalExtent.RangeDateTime\"]"
   ]
  },
  {
   "cell_type": "code",
   "execution_count": null,
   "id": "4a344149-8718-4dc6-b962-75409318a601",
   "metadata": {},
   "outputs": [],
   "source": [
    "# Size in MB\n",
    "data_links = [{'links': g.data_links(), 'size (MB):': g.size()} for g in granules]\n",
    "data_links"
   ]
  },
  {
   "cell_type": "markdown",
   "id": "f7c90c43-6e17-42f5-8bf5-95fdd3cb0dce",
   "metadata": {},
   "source": [
    "## **Accessing the data**\n",
    "\n",
    "The cloud is not something magical, but having infrastructure on-demand is quite handy to have on many scientific workflows, especially if the data already lives in \"the cloud\".\n",
    "As for NASA, a data migration started in 2020 and will continue on the forseeable future. Not all but most of NASA data will be available on AWS object storage system or S3.\n",
    "\n",
    "To work with this data the first thing we need to do is to get the proper credentials for accessing data on their S3 buckets. These credentials are on a per-DAAC base and last a mere 1 hour. In the near future the Auth class will keep track of this to regenerate the credentials.\n",
    "\n",
    "With `earthdata` a researcher can get the files regardless if they are on-prem or cloud based with the same API call, although an important consideration is that if we want to access data in the cloud we must run the code in the cloud. This is because some S3 buckets are configured to only allow egress if the requester is in the same zone, `us-west-2`.\n",
    "\n",
    "## On-prem access"
   ]
  },
  {
   "cell_type": "code",
   "execution_count": 1,
   "id": "b796fa53-60ac-4197-922d-1f6ee5dec00b",
   "metadata": {},
   "outputs": [
    {
     "name": "stdin",
     "output_type": "stream",
     "text": [
      "Enter your Earthdata Login username:  betolink\n",
      "Enter your Earthdata password:  ········\n"
     ]
    },
    {
     "name": "stdout",
     "output_type": "stream",
     "text": [
      "You're now authenticated with NASA Earthdata Login\n"
     ]
    }
   ],
   "source": [
    "# If we want to start the notebook from here we need to execute this cell and uncomment the lines below\n",
    "# Accessing not necessarily means downloading, specially in the cloud.\n",
    "from earthdata import Auth, DataGranules, DataCollections, Accessor\n",
    "auth = Auth()\n",
    "access = Accessor(auth)"
   ]
  },
  {
   "cell_type": "code",
   "execution_count": 2,
   "id": "910e4b90-f0e0-42e5-a4e2-d5444089161f",
   "metadata": {},
   "outputs": [
    {
     "name": "stdout",
     "output_type": "stream",
     "text": [
      "Granule hits: 6230\n"
     ]
    }
   ],
   "source": [
    "Query = DataGranules(auth).concept_id(\"C1997321091-NSIDC_ECS\").bounding_box(-134.7,54.9,-100.9,69.2)\n",
    "print(f\"Granule hits: {Query.hits()}\")"
   ]
  },
  {
   "cell_type": "code",
   "execution_count": 6,
   "id": "c88ee4c9-5b8e-4633-aa7f-f323fd0ed283",
   "metadata": {},
   "outputs": [
    {
     "data": {
      "text/plain": [
       "[Collection: {'EntryTitle': 'ATLAS/ICESat-2 L2A Global Geolocated Photon Data V004'}\n",
       " Spatial coverage: {'HorizontalSpatialDomain': {'Orbit': {'AscendingCrossing': -104.98588858627349, 'StartLatitude': 59.5, 'StartDirection': 'A', 'EndLatitude': 80.0, 'EndDirection': 'A'}}}\n",
       " Temporal coverage: {'RangeDateTime': {'BeginningDateTime': '2018-10-21T22:33:47.886Z', 'EndingDateTime': '2018-10-21T22:33:49.005Z'}}\n",
       " Size(MB): 69.4352331161\n",
       " Data: ['https://n5eil01u.ecs.nsidc.org/DP9/ATLAS/ATL03.004/2018.10.21/ATL03_20181021222823_03560103_004_01.h5'],\n",
       " Collection: {'EntryTitle': 'ATLAS/ICESat-2 L2A Global Geolocated Photon Data V004'}\n",
       " Spatial coverage: {'HorizontalSpatialDomain': {'Orbit': {'AscendingCrossing': -110.69603039866222, 'StartLatitude': 27.0, 'StartDirection': 'A', 'EndLatitude': 59.5, 'EndDirection': 'A'}}}\n",
       " Temporal coverage: {'RangeDateTime': {'BeginningDateTime': '2018-10-20T22:54:00.883Z', 'EndingDateTime': '2018-10-20T22:54:02.716Z'}}\n",
       " Size(MB): 84.6457881927\n",
       " Data: ['https://n5eil01u.ecs.nsidc.org/DP9/ATLAS/ATL03.004/2018.10.20/ATL03_20181020224531_03410102_004_01.h5'],\n",
       " Collection: {'EntryTitle': 'ATLAS/ICESat-2 L2A Global Geolocated Photon Data V004'}\n",
       " Spatial coverage: {'HorizontalSpatialDomain': {'Orbit': {'AscendingCrossing': 83.96569198067999, 'StartLatitude': 80.0, 'StartDirection': 'D', 'EndLatitude': 59.5, 'EndDirection': 'D'}}}\n",
       " Temporal coverage: {'RangeDateTime': {'BeginningDateTime': '2018-10-21T10:04:38.496Z', 'EndingDateTime': '2018-10-21T10:10:03.952Z'}}\n",
       " Size(MB): 206.4809999466\n",
       " Data: ['https://n5eil01u.ecs.nsidc.org/DP9/ATLAS/ATL03.004/2018.10.21/ATL03_20181021100438_03480105_004_01.h5'],\n",
       " Collection: {'EntryTitle': 'ATLAS/ICESat-2 L2A Global Geolocated Photon Data V004'}\n",
       " Spatial coverage: {'HorizontalSpatialDomain': {'Orbit': {'AscendingCrossing': 47.36728684621843, 'StartLatitude': 59.5, 'StartDirection': 'D', 'EndLatitude': 27.0, 'EndDirection': 'D'}}}\n",
       " Temporal coverage: {'RangeDateTime': {'BeginningDateTime': '2018-10-27T12:19:06.060Z', 'EndingDateTime': '2018-10-27T12:27:32.782Z'}}\n",
       " Size(MB): 212.2797651291\n",
       " Data: ['https://n5eil01u.ecs.nsidc.org/DP9/ATLAS/ATL03.004/2018.10.27/ATL03_20181027121902_04410106_004_01.h5'],\n",
       " Collection: {'EntryTitle': 'ATLAS/ICESat-2 L2A Global Geolocated Photon Data V004'}\n",
       " Spatial coverage: {'HorizontalSpatialDomain': {'Orbit': {'AscendingCrossing': 47.36728684621843, 'StartLatitude': 80.0, 'StartDirection': 'D', 'EndLatitude': 59.5, 'EndDirection': 'D'}}}\n",
       " Temporal coverage: {'RangeDateTime': {'BeginningDateTime': '2018-10-27T12:13:37.114Z', 'EndingDateTime': '2018-10-27T12:19:06.418Z'}}\n",
       " Size(MB): 273.1788082123\n",
       " Data: ['https://n5eil01u.ecs.nsidc.org/DP9/ATLAS/ATL03.004/2018.10.27/ATL03_20181027121336_04410105_004_01.h5']]"
      ]
     },
     "execution_count": 6,
     "metadata": {},
     "output_type": "execute_result"
    }
   ],
   "source": [
    "# getting more than 6,000 metadata records for demo purposes is going to slow us down a bit so let's get only 100\n",
    "granules = Query.get(100)\n",
    "# since the response is an array of dictionaries we can do pythonic things like ordering the granules by size\n",
    "import operator\n",
    "granules_by_size = sorted(granules, key=operator.itemgetter(\"size\"))\n",
    "# now our array is sorted by size from less to more. Let's print the first 10\n",
    "granules_by_size[0:5]"
   ]
  },
  {
   "cell_type": "code",
   "execution_count": 5,
   "id": "434466a3-602b-4dff-a260-f7db6901514a",
   "metadata": {},
   "outputs": [
    {
     "data": {
      "application/vnd.jupyter.widget-view+json": {
       "model_id": "5f87827b51404b7bb7b73e6cdfda30ec",
       "version_major": 2,
       "version_minor": 0
      },
      "text/plain": [
       "SUBMITTING | :   0%|          | 0/3 [00:00<?, ?it/s]"
      ]
     },
     "metadata": {},
     "output_type": "display_data"
    },
    {
     "data": {
      "application/vnd.jupyter.widget-view+json": {
       "model_id": "6c04cff46f2a45898c7f648128315e3d",
       "version_major": 2,
       "version_minor": 0
      },
      "text/plain": [
       "PROCESSING | :   0%|          | 0/3 [00:00<?, ?it/s]"
      ]
     },
     "metadata": {},
     "output_type": "display_data"
    },
    {
     "data": {
      "application/vnd.jupyter.widget-view+json": {
       "model_id": "bbe307d5635c4b6cbc1ae180dab7a13a",
       "version_major": 2,
       "version_minor": 0
      },
      "text/plain": [
       "COLLECTING | :   0%|          | 0/3 [00:00<?, ?it/s]"
      ]
     },
     "metadata": {},
     "output_type": "display_data"
    }
   ],
   "source": [
    "%%time\n",
    "# accessing the data on prem means downloading it if we are in a local environment or \"uploading them\" if we are in the cloud.\n",
    "files = access.get(granules_by_size[0:3], \"./data/demo-atl03\")"
   ]
  },
  {
   "cell_type": "markdown",
   "id": "4fe45fff-68ea-4f01-94c7-416d79cfd84c",
   "metadata": {},
   "source": [
    "## Cloud access\n",
    "\n",
    "Same API, just a different place"
   ]
  },
  {
   "cell_type": "code",
   "execution_count": 12,
   "id": "44403d51-0aa3-423c-8fff-e40d4969aa9d",
   "metadata": {},
   "outputs": [
    {
     "name": "stdout",
     "output_type": "stream",
     "text": [
      "Granule hits: 605\n"
     ]
    }
   ],
   "source": [
    "Query = DataGranules(auth).concept_id(\"C1968980609-POCLOUD\").bounding_box(-134.7,54.9,-100.9,69.2)\n",
    "print(f\"Granule hits: {Query.hits()}\")"
   ]
  },
  {
   "cell_type": "code",
   "execution_count": 14,
   "id": "2a3afc1a-145e-4084-9c93-dd9e1eff3c85",
   "metadata": {},
   "outputs": [
    {
     "data": {
      "text/plain": [
       "[Collection: {'Version': 'F', 'ShortName': 'JASON_CS_S6A_L2_ALT_LR_STD_OST_STC_F'}\n",
       " Spatial coverage: {'HorizontalSpatialDomain': {'Geometry': {'Lines': [{'Points': [{'Latitude': -65.651299, 'Longitude': 62.291185}, {'Latitude': -62.668781, 'Longitude': 90.38672}, {'Latitude': -55.249185, 'Longitude': 109.742412}, {'Latitude': -45.587235, 'Longitude': 121.805687}, {'Latitude': -34.84169, 'Longitude': 129.80194}, {'Latitude': -19.907954, 'Longitude': 137.2323}, {'Latitude': -8.237538, 'Longitude': 141.77837}, {'Latitude': 3.531965, 'Longitude': 146.004336}, {'Latitude': 15.288458, 'Longitude': 150.365636}, {'Latitude': 26.915319, 'Longitude': 155.364525}, {'Latitude': 38.24408, 'Longitude': 161.7267}, {'Latitude': 48.952765, 'Longitude': 170.698818}, {'Latitude': 58.344339, 'Longitude': -175.462384}, {'Latitude': 64.949148, 'Longitude': -153.453304}, {'Latitude': 66.647046, 'Longitude': -131.873032}, {'Latitude': 65.650127, 'Longitude': -131.794596}, {'Latitude': 63.952229, 'Longitude': -153.374868}, {'Latitude': 57.38668, 'Longitude': -175.174479}, {'Latitude': 48.126095, 'Longitude': 171.261504}, {'Latitude': 37.602909, 'Longitude': 162.494097}, {'Latitude': 26.42623, 'Longitude': 156.236759}, {'Latitude': 14.893675, 'Longitude': 151.28441}, {'Latitude': 3.184205, 'Longitude': 146.941919}, {'Latitude': -8.575472, 'Longitude': 142.719539}, {'Latitude': -20.270912, 'Longitude': 138.164106}, {'Latitude': -35.287043, 'Longitude': 130.697295}, {'Latitude': -46.183753, 'Longitude': 122.608286}, {'Latitude': -56.02904, 'Longitude': 110.368371}, {'Latitude': -63.602118, 'Longitude': 90.74572}, {'Latitude': -66.645648, 'Longitude': 62.397343}]}]}, 'Track': {'Cycle': 23, 'Passes': [{'Pass': 201}]}}}\n",
       " Temporal coverage: {'RangeDateTime': {'EndingDateTime': '2021-07-01T15:58:02.489Z', 'BeginningDateTime': '2021-07-01T15:01:49.523Z'}}\n",
       " Size(MB): 22.29105567932129\n",
       " Data: ['s3://podaac-ops-cumulus-protected/JASON_CS_S6A_L2_ALT_LR_STD_OST_STC_F/S6A_P4_2__LR_STD__ST_023_201_20210701T150149_20210701T155802_F02.nc'],\n",
       " Collection: {'Version': 'F', 'ShortName': 'JASON_CS_S6A_L2_ALT_LR_STD_OST_STC_F'}\n",
       " Spatial coverage: {'HorizontalSpatialDomain': {'Geometry': {'Lines': [{'Points': [{'Latitude': -65.651818, 'Longitude': 59.503069}, {'Latitude': -62.660613, 'Longitude': 87.589332}, {'Latitude': -55.236121, 'Longitude': 106.931241}, {'Latitude': -45.571835, 'Longitude': 118.986043}, {'Latitude': -34.82543, 'Longitude': 126.977594}, {'Latitude': -19.69835, 'Longitude': 134.485975}, {'Latitude': -8.025382, 'Longitude': 139.021588}, {'Latitude': 3.743684, 'Longitude': 143.245497}, {'Latitude': 15.499215, 'Longitude': 147.613444}, {'Latitude': 27.12055, 'Longitude': 152.628381}, {'Latitude': 38.442405, 'Longitude': 159.024258}, {'Latitude': 49.135881, 'Longitude': 168.060138}, {'Latitude': 58.494005, 'Longitude': -177.984039}, {'Latitude': 65.027755, 'Longitude': -155.810479}, {'Latitude': 66.647589, 'Longitude': -134.665931}, {'Latitude': 65.650511, 'Longitude': -134.589547}, {'Latitude': 64.030676, 'Longitude': -155.734095}, {'Latitude': 57.534916, 'Longitude': -177.700933}, {'Latitude': 48.306089, 'Longitude': 168.618212}, {'Latitude': 37.798033, 'Longitude': 159.78897}, {'Latitude': 26.629274, 'Longitude': 153.499385}, {'Latitude': 15.103209, 'Longitude': 148.531692}, {'Latitude': 3.395434, 'Longitude': 144.182899}, {'Latitude': -8.363181, 'Longitude': 139.962806}, {'Latitude': -20.060515, 'Longitude': 135.418089}, {'Latitude': -35.269921, 'Longitude': 127.873377}, {'Latitude': -46.168093, 'Longitude': 119.788836}, {'Latitude': -56.015688, 'Longitude': 107.557559}, {'Latitude': -63.593785, 'Longitude': 87.948761}, {'Latitude': -66.646131, 'Longitude': 59.609567}]}]}, 'Track': {'Cycle': 24, 'Passes': [{'Pass': 125}]}}}\n",
       " Temporal coverage: {'RangeDateTime': {'EndingDateTime': '2021-07-08T14:44:15.471Z', 'BeginningDateTime': '2021-07-08T13:48:02.543Z'}}\n",
       " Size(MB): 22.459956169128418\n",
       " Data: ['s3://podaac-ops-cumulus-protected/JASON_CS_S6A_L2_ALT_LR_STD_OST_STC_F/S6A_P4_2__LR_STD__ST_024_125_20210708T134802_20210708T144415_F02.nc'],\n",
       " Collection: {'Version': 'F', 'ShortName': 'JASON_CS_S6A_L2_ALT_LR_STD_OST_STC_F'}\n",
       " Spatial coverage: {'HorizontalSpatialDomain': {'Geometry': {'Lines': [{'Points': [{'Latitude': -65.652013, 'Longitude': 59.444531}, {'Latitude': -62.671586, 'Longitude': 87.543263}, {'Latitude': -55.253037, 'Longitude': 106.902574}, {'Latitude': -45.591514, 'Longitude': 118.967824}, {'Latitude': -34.846481, 'Longitude': 126.964847}, {'Latitude': -19.72035, 'Longitude': 134.476623}, {'Latitude': -8.047712, 'Longitude': 139.013237}, {'Latitude': 3.72128, 'Longitude': 143.237255}, {'Latitude': 15.476813, 'Longitude': 147.604394}, {'Latitude': 27.100718, 'Longitude': 152.618505}, {'Latitude': 38.423096, 'Longitude': 159.010924}, {'Latitude': 49.117941, 'Longitude': 168.040297}, {'Latitude': 58.479315, 'Longitude': -178.015781}, {'Latitude': 65.020978, 'Longitude': -155.853975}, {'Latitude': 66.647779, 'Longitude': -134.721642}, {'Latitude': 65.650729, 'Longitude': -134.644888}, {'Latitude': 64.023928, 'Longitude': -155.77722}, {'Latitude': 57.520361, 'Longitude': -177.732221}, {'Latitude': 48.28846, 'Longitude': 168.598832}, {'Latitude': 37.779043, 'Longitude': 159.775904}, {'Latitude': 26.60966, 'Longitude': 153.489632}, {'Latitude': 15.080934, 'Longitude': 148.522697}, {'Latitude': 3.373087, 'Longitude': 144.174678}, {'Latitude': -8.385521, 'Longitude': 139.954452}, {'Latitude': -20.082594, 'Longitude': 135.408706}, {'Latitude': -35.291156, 'Longitude': 127.860539}, {'Latitude': -46.188084, 'Longitude': 119.770385}, {'Latitude': -56.032956, 'Longitude': 107.528455}, {'Latitude': -63.604963, 'Longitude': 87.90216}, {'Latitude': -66.646372, 'Longitude': 59.550605}]}]}, 'Track': {'Cycle': 23, 'Passes': [{'Pass': 125}]}}}\n",
       " Temporal coverage: {'RangeDateTime': {'EndingDateTime': '2021-06-28T16:45:43.472Z', 'BeginningDateTime': '2021-06-28T15:49:30.534Z'}}\n",
       " Size(MB): 22.473447799682617\n",
       " Data: ['s3://podaac-ops-cumulus-protected/JASON_CS_S6A_L2_ALT_LR_STD_OST_STC_F/S6A_P4_2__LR_STD__ST_023_125_20210628T154930_20210628T164543_F02.nc']]"
      ]
     },
     "execution_count": 14,
     "metadata": {},
     "output_type": "execute_result"
    }
   ],
   "source": [
    "import operator\n",
    "\n",
    "granules = Query.get(100)\n",
    "cloud_granules_by_size = sorted(granules, key=operator.itemgetter(\"size\"))\n",
    "# now our array is sorted by size from less to more. Let's print the first 10\n",
    "cloud_granules_by_size[0:3]"
   ]
  },
  {
   "cell_type": "code",
   "execution_count": 15,
   "id": "b2a294f1-b1f9-4cd4-8751-dfc32feacec1",
   "metadata": {},
   "outputs": [
    {
     "ename": "PermissionError",
     "evalue": "Access Denied",
     "output_type": "error",
     "traceback": [
      "\u001b[0;31m---------------------------------------------------------------------------\u001b[0m",
      "\u001b[0;31mClientError\u001b[0m                               Traceback (most recent call last)",
      "\u001b[0;32m~/.pyenv/versions/miniconda3-latest/envs/earthdata-dev/lib/python3.9/site-packages/s3fs/core.py\u001b[0m in \u001b[0;36m_call_s3\u001b[0;34m(self, method, *akwarglist, **kwargs)\u001b[0m\n\u001b[1;32m    247\u001b[0m             \u001b[0;32mtry\u001b[0m\u001b[0;34m:\u001b[0m\u001b[0;34m\u001b[0m\u001b[0;34m\u001b[0m\u001b[0m\n\u001b[0;32m--> 248\u001b[0;31m                 \u001b[0mout\u001b[0m \u001b[0;34m=\u001b[0m \u001b[0;32mawait\u001b[0m \u001b[0mmethod\u001b[0m\u001b[0;34m(\u001b[0m\u001b[0;34m**\u001b[0m\u001b[0madditional_kwargs\u001b[0m\u001b[0;34m)\u001b[0m\u001b[0;34m\u001b[0m\u001b[0;34m\u001b[0m\u001b[0m\n\u001b[0m\u001b[1;32m    249\u001b[0m                 \u001b[0;32mreturn\u001b[0m \u001b[0mout\u001b[0m\u001b[0;34m\u001b[0m\u001b[0;34m\u001b[0m\u001b[0m\n",
      "\u001b[0;32m~/.pyenv/versions/miniconda3-latest/envs/earthdata-dev/lib/python3.9/site-packages/aiobotocore/client.py\u001b[0m in \u001b[0;36m_make_api_call\u001b[0;34m(self, operation_name, api_params)\u001b[0m\n\u001b[1;32m    154\u001b[0m             \u001b[0merror_class\u001b[0m \u001b[0;34m=\u001b[0m \u001b[0mself\u001b[0m\u001b[0;34m.\u001b[0m\u001b[0mexceptions\u001b[0m\u001b[0;34m.\u001b[0m\u001b[0mfrom_code\u001b[0m\u001b[0;34m(\u001b[0m\u001b[0merror_code\u001b[0m\u001b[0;34m)\u001b[0m\u001b[0;34m\u001b[0m\u001b[0;34m\u001b[0m\u001b[0m\n\u001b[0;32m--> 155\u001b[0;31m             \u001b[0;32mraise\u001b[0m \u001b[0merror_class\u001b[0m\u001b[0;34m(\u001b[0m\u001b[0mparsed_response\u001b[0m\u001b[0;34m,\u001b[0m \u001b[0moperation_name\u001b[0m\u001b[0;34m)\u001b[0m\u001b[0;34m\u001b[0m\u001b[0;34m\u001b[0m\u001b[0m\n\u001b[0m\u001b[1;32m    156\u001b[0m         \u001b[0;32melse\u001b[0m\u001b[0;34m:\u001b[0m\u001b[0;34m\u001b[0m\u001b[0;34m\u001b[0m\u001b[0m\n",
      "\u001b[0;31mClientError\u001b[0m: An error occurred (AccessDenied) when calling the GetObject operation: Access Denied",
      "\nThe above exception was the direct cause of the following exception:\n",
      "\u001b[0;31mPermissionError\u001b[0m                           Traceback (most recent call last)",
      "\u001b[0;32m<timed exec>\u001b[0m in \u001b[0;36m<module>\u001b[0;34m\u001b[0m\n",
      "\u001b[0;32m~/nsidc/earthdata/earthdata/accessor.py\u001b[0m in \u001b[0;36mget\u001b[0;34m(self, granules, local_path, threads)\u001b[0m\n\u001b[1;32m    108\u001b[0m             \u001b[0;31m# TODO: make this parallel\u001b[0m\u001b[0;34m\u001b[0m\u001b[0;34m\u001b[0m\u001b[0m\n\u001b[1;32m    109\u001b[0m             \u001b[0;32mfor\u001b[0m \u001b[0mfile\u001b[0m \u001b[0;32min\u001b[0m \u001b[0mdata_links\u001b[0m\u001b[0;34m:\u001b[0m\u001b[0;34m\u001b[0m\u001b[0;34m\u001b[0m\u001b[0m\n\u001b[0;32m--> 110\u001b[0;31m                 \u001b[0ms3_fs\u001b[0m\u001b[0;34m.\u001b[0m\u001b[0mget\u001b[0m\u001b[0;34m(\u001b[0m\u001b[0mfile\u001b[0m\u001b[0;34m,\u001b[0m \u001b[0mlocal_path\u001b[0m\u001b[0;34m)\u001b[0m\u001b[0;34m\u001b[0m\u001b[0;34m\u001b[0m\u001b[0m\n\u001b[0m\u001b[1;32m    111\u001b[0m                 \u001b[0mprint\u001b[0m\u001b[0;34m(\u001b[0m\u001b[0;34mf\"Retrieved: {file} to {local_path}\"\u001b[0m\u001b[0;34m)\u001b[0m\u001b[0;34m\u001b[0m\u001b[0;34m\u001b[0m\u001b[0m\n\u001b[1;32m    112\u001b[0m         \u001b[0;32melse\u001b[0m\u001b[0;34m:\u001b[0m\u001b[0;34m\u001b[0m\u001b[0;34m\u001b[0m\u001b[0m\n",
      "\u001b[0;32m~/.pyenv/versions/miniconda3-latest/envs/earthdata-dev/lib/python3.9/site-packages/fsspec/asyn.py\u001b[0m in \u001b[0;36mwrapper\u001b[0;34m(*args, **kwargs)\u001b[0m\n\u001b[1;32m     89\u001b[0m     \u001b[0;32mdef\u001b[0m \u001b[0mwrapper\u001b[0m\u001b[0;34m(\u001b[0m\u001b[0;34m*\u001b[0m\u001b[0margs\u001b[0m\u001b[0;34m,\u001b[0m \u001b[0;34m**\u001b[0m\u001b[0mkwargs\u001b[0m\u001b[0;34m)\u001b[0m\u001b[0;34m:\u001b[0m\u001b[0;34m\u001b[0m\u001b[0;34m\u001b[0m\u001b[0m\n\u001b[1;32m     90\u001b[0m         \u001b[0mself\u001b[0m \u001b[0;34m=\u001b[0m \u001b[0mobj\u001b[0m \u001b[0;32mor\u001b[0m \u001b[0margs\u001b[0m\u001b[0;34m[\u001b[0m\u001b[0;36m0\u001b[0m\u001b[0;34m]\u001b[0m\u001b[0;34m\u001b[0m\u001b[0;34m\u001b[0m\u001b[0m\n\u001b[0;32m---> 91\u001b[0;31m         \u001b[0;32mreturn\u001b[0m \u001b[0msync\u001b[0m\u001b[0;34m(\u001b[0m\u001b[0mself\u001b[0m\u001b[0;34m.\u001b[0m\u001b[0mloop\u001b[0m\u001b[0;34m,\u001b[0m \u001b[0mfunc\u001b[0m\u001b[0;34m,\u001b[0m \u001b[0;34m*\u001b[0m\u001b[0margs\u001b[0m\u001b[0;34m,\u001b[0m \u001b[0;34m**\u001b[0m\u001b[0mkwargs\u001b[0m\u001b[0;34m)\u001b[0m\u001b[0;34m\u001b[0m\u001b[0;34m\u001b[0m\u001b[0m\n\u001b[0m\u001b[1;32m     92\u001b[0m \u001b[0;34m\u001b[0m\u001b[0m\n\u001b[1;32m     93\u001b[0m     \u001b[0;32mreturn\u001b[0m \u001b[0mwrapper\u001b[0m\u001b[0;34m\u001b[0m\u001b[0;34m\u001b[0m\u001b[0m\n",
      "\u001b[0;32m~/.pyenv/versions/miniconda3-latest/envs/earthdata-dev/lib/python3.9/site-packages/fsspec/asyn.py\u001b[0m in \u001b[0;36msync\u001b[0;34m(loop, func, timeout, *args, **kwargs)\u001b[0m\n\u001b[1;32m     69\u001b[0m         \u001b[0;32mraise\u001b[0m \u001b[0mFSTimeoutError\u001b[0m \u001b[0;32mfrom\u001b[0m \u001b[0mreturn_result\u001b[0m\u001b[0;34m\u001b[0m\u001b[0;34m\u001b[0m\u001b[0m\n\u001b[1;32m     70\u001b[0m     \u001b[0;32melif\u001b[0m \u001b[0misinstance\u001b[0m\u001b[0;34m(\u001b[0m\u001b[0mreturn_result\u001b[0m\u001b[0;34m,\u001b[0m \u001b[0mBaseException\u001b[0m\u001b[0;34m)\u001b[0m\u001b[0;34m:\u001b[0m\u001b[0;34m\u001b[0m\u001b[0;34m\u001b[0m\u001b[0m\n\u001b[0;32m---> 71\u001b[0;31m         \u001b[0;32mraise\u001b[0m \u001b[0mreturn_result\u001b[0m\u001b[0;34m\u001b[0m\u001b[0;34m\u001b[0m\u001b[0m\n\u001b[0m\u001b[1;32m     72\u001b[0m     \u001b[0;32melse\u001b[0m\u001b[0;34m:\u001b[0m\u001b[0;34m\u001b[0m\u001b[0;34m\u001b[0m\u001b[0m\n\u001b[1;32m     73\u001b[0m         \u001b[0;32mreturn\u001b[0m \u001b[0mreturn_result\u001b[0m\u001b[0;34m\u001b[0m\u001b[0;34m\u001b[0m\u001b[0m\n",
      "\u001b[0;32m~/.pyenv/versions/miniconda3-latest/envs/earthdata-dev/lib/python3.9/site-packages/fsspec/asyn.py\u001b[0m in \u001b[0;36m_runner\u001b[0;34m(event, coro, result, timeout)\u001b[0m\n\u001b[1;32m     23\u001b[0m         \u001b[0mcoro\u001b[0m \u001b[0;34m=\u001b[0m \u001b[0masyncio\u001b[0m\u001b[0;34m.\u001b[0m\u001b[0mwait_for\u001b[0m\u001b[0;34m(\u001b[0m\u001b[0mcoro\u001b[0m\u001b[0;34m,\u001b[0m \u001b[0mtimeout\u001b[0m\u001b[0;34m=\u001b[0m\u001b[0mtimeout\u001b[0m\u001b[0;34m)\u001b[0m\u001b[0;34m\u001b[0m\u001b[0;34m\u001b[0m\u001b[0m\n\u001b[1;32m     24\u001b[0m     \u001b[0;32mtry\u001b[0m\u001b[0;34m:\u001b[0m\u001b[0;34m\u001b[0m\u001b[0;34m\u001b[0m\u001b[0m\n\u001b[0;32m---> 25\u001b[0;31m         \u001b[0mresult\u001b[0m\u001b[0;34m[\u001b[0m\u001b[0;36m0\u001b[0m\u001b[0;34m]\u001b[0m \u001b[0;34m=\u001b[0m \u001b[0;32mawait\u001b[0m \u001b[0mcoro\u001b[0m\u001b[0;34m\u001b[0m\u001b[0;34m\u001b[0m\u001b[0m\n\u001b[0m\u001b[1;32m     26\u001b[0m     \u001b[0;32mexcept\u001b[0m \u001b[0mException\u001b[0m \u001b[0;32mas\u001b[0m \u001b[0mex\u001b[0m\u001b[0;34m:\u001b[0m\u001b[0;34m\u001b[0m\u001b[0;34m\u001b[0m\u001b[0m\n\u001b[1;32m     27\u001b[0m         \u001b[0mresult\u001b[0m\u001b[0;34m[\u001b[0m\u001b[0;36m0\u001b[0m\u001b[0;34m]\u001b[0m \u001b[0;34m=\u001b[0m \u001b[0mex\u001b[0m\u001b[0;34m\u001b[0m\u001b[0;34m\u001b[0m\u001b[0m\n",
      "\u001b[0;32m~/.pyenv/versions/miniconda3-latest/envs/earthdata-dev/lib/python3.9/site-packages/fsspec/asyn.py\u001b[0m in \u001b[0;36m_get\u001b[0;34m(self, rpath, lpath, recursive, callback, **kwargs)\u001b[0m\n\u001b[1;32m    457\u001b[0m             \u001b[0mcallback\u001b[0m\u001b[0;34m.\u001b[0m\u001b[0mbranch\u001b[0m\u001b[0;34m(\u001b[0m\u001b[0mrpath\u001b[0m\u001b[0;34m,\u001b[0m \u001b[0mlpath\u001b[0m\u001b[0;34m,\u001b[0m \u001b[0mkwargs\u001b[0m\u001b[0;34m)\u001b[0m\u001b[0;34m\u001b[0m\u001b[0;34m\u001b[0m\u001b[0m\n\u001b[1;32m    458\u001b[0m             \u001b[0mcoros\u001b[0m\u001b[0;34m.\u001b[0m\u001b[0mappend\u001b[0m\u001b[0;34m(\u001b[0m\u001b[0mself\u001b[0m\u001b[0;34m.\u001b[0m\u001b[0m_get_file\u001b[0m\u001b[0;34m(\u001b[0m\u001b[0mrpath\u001b[0m\u001b[0;34m,\u001b[0m \u001b[0mlpath\u001b[0m\u001b[0;34m,\u001b[0m \u001b[0;34m**\u001b[0m\u001b[0mkwargs\u001b[0m\u001b[0;34m)\u001b[0m\u001b[0;34m)\u001b[0m\u001b[0;34m\u001b[0m\u001b[0;34m\u001b[0m\u001b[0m\n\u001b[0;32m--> 459\u001b[0;31m         return await _run_coros_in_chunks(\n\u001b[0m\u001b[1;32m    460\u001b[0m             \u001b[0mcoros\u001b[0m\u001b[0;34m,\u001b[0m \u001b[0mbatch_size\u001b[0m\u001b[0;34m=\u001b[0m\u001b[0mbatch_size\u001b[0m\u001b[0;34m,\u001b[0m \u001b[0mcallback\u001b[0m\u001b[0;34m=\u001b[0m\u001b[0mcallback\u001b[0m\u001b[0;34m\u001b[0m\u001b[0;34m\u001b[0m\u001b[0m\n\u001b[1;32m    461\u001b[0m         )\n",
      "\u001b[0;32m~/.pyenv/versions/miniconda3-latest/envs/earthdata-dev/lib/python3.9/site-packages/fsspec/asyn.py\u001b[0m in \u001b[0;36m_run_coros_in_chunks\u001b[0;34m(coros, batch_size, callback, timeout)\u001b[0m\n\u001b[1;32m    211\u001b[0m         \u001b[0mchunk\u001b[0m \u001b[0;34m=\u001b[0m \u001b[0mcoros\u001b[0m\u001b[0;34m[\u001b[0m\u001b[0mstart\u001b[0m \u001b[0;34m:\u001b[0m \u001b[0mstart\u001b[0m \u001b[0;34m+\u001b[0m \u001b[0mbatch_size\u001b[0m\u001b[0;34m]\u001b[0m\u001b[0;34m\u001b[0m\u001b[0;34m\u001b[0m\u001b[0m\n\u001b[1;32m    212\u001b[0m         \u001b[0;32mfor\u001b[0m \u001b[0mcoro\u001b[0m \u001b[0;32min\u001b[0m \u001b[0masyncio\u001b[0m\u001b[0;34m.\u001b[0m\u001b[0mas_completed\u001b[0m\u001b[0;34m(\u001b[0m\u001b[0mchunk\u001b[0m\u001b[0;34m,\u001b[0m \u001b[0mtimeout\u001b[0m\u001b[0;34m=\u001b[0m\u001b[0mtimeout\u001b[0m\u001b[0;34m)\u001b[0m\u001b[0;34m:\u001b[0m\u001b[0;34m\u001b[0m\u001b[0;34m\u001b[0m\u001b[0m\n\u001b[0;32m--> 213\u001b[0;31m             \u001b[0mresults\u001b[0m\u001b[0;34m.\u001b[0m\u001b[0mappend\u001b[0m\u001b[0;34m(\u001b[0m\u001b[0;32mawait\u001b[0m \u001b[0mcoro\u001b[0m\u001b[0;34m)\u001b[0m\u001b[0;34m\u001b[0m\u001b[0;34m\u001b[0m\u001b[0m\n\u001b[0m\u001b[1;32m    214\u001b[0m             \u001b[0mcallback\u001b[0m\u001b[0;34m.\u001b[0m\u001b[0mcall\u001b[0m\u001b[0;34m(\u001b[0m\u001b[0;34m\"relative_update\"\u001b[0m\u001b[0;34m,\u001b[0m \u001b[0;36m1\u001b[0m\u001b[0;34m)\u001b[0m\u001b[0;34m\u001b[0m\u001b[0;34m\u001b[0m\u001b[0m\n\u001b[1;32m    215\u001b[0m     \u001b[0;32mreturn\u001b[0m \u001b[0mresults\u001b[0m\u001b[0;34m\u001b[0m\u001b[0;34m\u001b[0m\u001b[0m\n",
      "\u001b[0;32m~/.pyenv/versions/miniconda3-latest/envs/earthdata-dev/lib/python3.9/asyncio/tasks.py\u001b[0m in \u001b[0;36m_wait_for_one\u001b[0;34m()\u001b[0m\n\u001b[1;32m    612\u001b[0m             \u001b[0;31m# Dummy value from _on_timeout().\u001b[0m\u001b[0;34m\u001b[0m\u001b[0;34m\u001b[0m\u001b[0m\n\u001b[1;32m    613\u001b[0m             \u001b[0;32mraise\u001b[0m \u001b[0mexceptions\u001b[0m\u001b[0;34m.\u001b[0m\u001b[0mTimeoutError\u001b[0m\u001b[0;34m\u001b[0m\u001b[0;34m\u001b[0m\u001b[0m\n\u001b[0;32m--> 614\u001b[0;31m         \u001b[0;32mreturn\u001b[0m \u001b[0mf\u001b[0m\u001b[0;34m.\u001b[0m\u001b[0mresult\u001b[0m\u001b[0;34m(\u001b[0m\u001b[0;34m)\u001b[0m  \u001b[0;31m# May raise f.exception().\u001b[0m\u001b[0;34m\u001b[0m\u001b[0;34m\u001b[0m\u001b[0m\n\u001b[0m\u001b[1;32m    615\u001b[0m \u001b[0;34m\u001b[0m\u001b[0m\n\u001b[1;32m    616\u001b[0m     \u001b[0;32mfor\u001b[0m \u001b[0mf\u001b[0m \u001b[0;32min\u001b[0m \u001b[0mtodo\u001b[0m\u001b[0;34m:\u001b[0m\u001b[0;34m\u001b[0m\u001b[0;34m\u001b[0m\u001b[0m\n",
      "\u001b[0;32m~/.pyenv/versions/miniconda3-latest/envs/earthdata-dev/lib/python3.9/site-packages/s3fs/core.py\u001b[0m in \u001b[0;36m_get_file\u001b[0;34m(self, rpath, lpath, version_id)\u001b[0m\n\u001b[1;32m    974\u001b[0m         \u001b[0;32mif\u001b[0m \u001b[0mos\u001b[0m\u001b[0;34m.\u001b[0m\u001b[0mpath\u001b[0m\u001b[0;34m.\u001b[0m\u001b[0misdir\u001b[0m\u001b[0;34m(\u001b[0m\u001b[0mlpath\u001b[0m\u001b[0;34m)\u001b[0m\u001b[0;34m:\u001b[0m\u001b[0;34m\u001b[0m\u001b[0;34m\u001b[0m\u001b[0m\n\u001b[1;32m    975\u001b[0m             \u001b[0;32mreturn\u001b[0m\u001b[0;34m\u001b[0m\u001b[0;34m\u001b[0m\u001b[0m\n\u001b[0;32m--> 976\u001b[0;31m         resp = await self._call_s3(\n\u001b[0m\u001b[1;32m    977\u001b[0m             \u001b[0;34m\"get_object\"\u001b[0m\u001b[0;34m,\u001b[0m\u001b[0;34m\u001b[0m\u001b[0;34m\u001b[0m\u001b[0m\n\u001b[1;32m    978\u001b[0m             \u001b[0mBucket\u001b[0m\u001b[0;34m=\u001b[0m\u001b[0mbucket\u001b[0m\u001b[0;34m,\u001b[0m\u001b[0;34m\u001b[0m\u001b[0;34m\u001b[0m\u001b[0m\n",
      "\u001b[0;32m~/.pyenv/versions/miniconda3-latest/envs/earthdata-dev/lib/python3.9/site-packages/s3fs/core.py\u001b[0m in \u001b[0;36m_call_s3\u001b[0;34m(self, method, *akwarglist, **kwargs)\u001b[0m\n\u001b[1;32m    266\u001b[0m                 \u001b[0merr\u001b[0m \u001b[0;34m=\u001b[0m \u001b[0me\u001b[0m\u001b[0;34m\u001b[0m\u001b[0;34m\u001b[0m\u001b[0m\n\u001b[1;32m    267\u001b[0m         \u001b[0merr\u001b[0m \u001b[0;34m=\u001b[0m \u001b[0mtranslate_boto_error\u001b[0m\u001b[0;34m(\u001b[0m\u001b[0merr\u001b[0m\u001b[0;34m)\u001b[0m\u001b[0;34m\u001b[0m\u001b[0;34m\u001b[0m\u001b[0m\n\u001b[0;32m--> 268\u001b[0;31m         \u001b[0;32mraise\u001b[0m \u001b[0merr\u001b[0m\u001b[0;34m\u001b[0m\u001b[0;34m\u001b[0m\u001b[0m\n\u001b[0m\u001b[1;32m    269\u001b[0m \u001b[0;34m\u001b[0m\u001b[0m\n\u001b[1;32m    270\u001b[0m     \u001b[0mcall_s3\u001b[0m \u001b[0;34m=\u001b[0m \u001b[0msync_wrapper\u001b[0m\u001b[0;34m(\u001b[0m\u001b[0m_call_s3\u001b[0m\u001b[0;34m)\u001b[0m\u001b[0;34m\u001b[0m\u001b[0;34m\u001b[0m\u001b[0m\n",
      "\u001b[0;31mPermissionError\u001b[0m: Access Denied"
     ]
    }
   ],
   "source": [
    "%%time\n",
    "\n",
    "# If we get\n",
    "files = access.get(cloud_granules_by_size[0:3], \"./data/demo-POCLOUD\")"
   ]
  },
  {
   "cell_type": "code",
   "execution_count": null,
   "id": "c1f5f4f6-931a-43d2-80b2-f5a8ec4bd664",
   "metadata": {},
   "outputs": [],
   "source": [
    "import xarray as xr\n",
    "\n",
    "\n",
    "ds = xr.open_dataset('./data/ASTGTMV003_N59W112_dem.nc')\n",
    "ds"
   ]
  },
  {
   "cell_type": "code",
   "execution_count": null,
   "id": "fe59e807-2b9d-4079-941e-092128296c92",
   "metadata": {},
   "outputs": [],
   "source": [
    "ds.ASTER_GDEM_DEM.plot()"
   ]
  },
  {
   "cell_type": "code",
   "execution_count": null,
   "id": "83db5b41-e627-434a-aeb3-8c0a109c5599",
   "metadata": {},
   "outputs": [],
   "source": [
    "ds.ASTER_GDEM_DEM.plot()"
   ]
  },
  {
   "cell_type": "markdown",
   "id": "d276eca3-ca27-4970-9367-7e65e5f2302f",
   "metadata": {},
   "source": [
    "## Recap\n",
    "\n",
    "```python\n",
    "from earthdata import Auth, DataGranules, DataCollections, Accessor\n",
    "auth = Auth()\n",
    "access = Accessor(auth)\n",
    "\n",
    "Query = DataGranules(auth).concept_id(\"C1575731655-LPDAAC_ECS\").bounding_box(-134.7,58.9,-133.9,59.2)\n",
    "granules = Query.get(10)\n",
    "# preview the data granules\n",
    "granules \n",
    "# get the files\n",
    "files = access.get(granules)\n",
    "\n",
    "\n",
    "```\n",
    "\n",
    "**Wait, we said 4 lines of python, we meant 3!**\n",
    "\n",
    "```python\n",
    "\n",
    "from earthdata import Auth, DataGranules, DataCollections, Accessor\n",
    "auth = Auth()\n",
    "files = Accessor(auth).get(DataGranules().concept_id(\"C1575731655-LPDAAC_ECS\").bounding_box(-134.7,58.9,-133.9,59.2).get(10))\n",
    "\n",
    "# Profit!\n",
    "```"
   ]
  },
  {
   "cell_type": "code",
   "execution_count": null,
   "id": "1f1e550f-f6bc-4386-95ea-bd3723a6ced0",
   "metadata": {},
   "outputs": [],
   "source": [
    "from earthdata import Auth, DataGranules, DataCollections, Accessor\n",
    "auth = Auth()\n",
    "files = Accessor(auth).get(DataGranules().concept_id(\"C1575731655-LPDAAC_ECS\").bounding_box(-134.7,58.9,-133.9,59.2).get(10))\n"
   ]
  },
  {
   "cell_type": "markdown",
   "id": "d779e877-2f0c-4da2-92d5-6cc299204956",
   "metadata": {},
   "source": [
    "### Related links\n",
    "\n",
    "**CMR** API documentation: https://cmr.earthdata.nasa.gov/search/site/docs/search/api.html\n",
    "\n",
    "**EDL** API documentation: https://urs.earthdata.nasa.gov/\n",
    "\n",
    "NASA OpenScapes: https://nasa-openscapes.github.io/earthdata-cloud-cookbook/\n",
    "\n",
    "NSIDC: https://nsidc.org"
   ]
  }
 ],
 "metadata": {
  "kernelspec": {
   "display_name": "Python 3 (ipykernel)",
   "language": "python",
   "name": "python3"
  },
  "language_info": {
   "codemirror_mode": {
    "name": "ipython",
    "version": 3
   },
   "file_extension": ".py",
   "mimetype": "text/x-python",
   "name": "python",
   "nbconvert_exporter": "python",
   "pygments_lexer": "ipython3",
   "version": "3.9.7"
  }
 },
 "nbformat": 4,
 "nbformat_minor": 5
}
