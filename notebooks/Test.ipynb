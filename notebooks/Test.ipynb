{
 "cells": [
  {
   "cell_type": "code",
   "execution_count": 1,
   "id": "2acb1926-3442-446a-8a35-fcbba8868d4d",
   "metadata": {},
   "outputs": [
    {
     "name": "stdin",
     "output_type": "stream",
     "text": [
      "Enter your EDL password: ········\n"
     ]
    }
   ],
   "source": [
    "from earthdata import Auth, DataGranules, DataCollections\n",
    "from getpass import getpass\n",
    "\n",
    "user = 'betolink'\n",
    "password = getpass(prompt='Enter your EDL password:')\n",
    "auth = Auth(user, password)"
   ]
  },
  {
   "cell_type": "code",
   "execution_count": null,
   "id": "518e769f-0175-491b-aad1-7019fc4c6cd6",
   "metadata": {},
   "outputs": [],
   "source": [
    "auth.get_s3_credentials()"
   ]
  },
  {
   "cell_type": "code",
   "execution_count": null,
   "id": "48cdcd74-dfe3-4b83-93f4-7378a0d981df",
   "metadata": {},
   "outputs": [],
   "source": [
    "granule_search = DataGranules()\n",
    "collection_search = DataCollections()\n",
    "\n",
    "print(collection_search.keyword('elevation').cloud_hosted(True).hits())\n",
    "collection_search.cloud_hosted(True).get(3)"
   ]
  },
  {
   "cell_type": "code",
   "execution_count": 2,
   "id": "aef401af-f107-44a4-8683-6dbbdd6a53fd",
   "metadata": {},
   "outputs": [
    {
     "data": {
      "text/plain": [
       "599"
      ]
     },
     "execution_count": 2,
     "metadata": {},
     "output_type": "execute_result"
    }
   ],
   "source": [
    "granule_search = DataGranules()\n",
    "granule_search.bounding_box(-10,20,10,50).concept_id('C1711961296-LPCLOUD').hits()"
   ]
  },
  {
   "cell_type": "code",
   "execution_count": 6,
   "id": "0e72791a-37bf-45a2-b18c-2719f356609e",
   "metadata": {},
   "outputs": [
    {
     "data": {
      "text/html": [
       "\n",
       "        <p>\n",
       "          <b>Collection</b>: {'ShortName': 'ASTGTM', 'Version': '003'}<BR>\n",
       "          <b>Spatial coverage</b>: {'HorizontalSpatialDomain': {'Geometry': {'BoundingRectangles': [{'WestBoundingCoordinate': 5.9998611, 'EastBoundingCoordinate': 7.0001389, 'NorthBoundingCoordinate': 20.0001389, 'SouthBoundingCoordinate': 18.9998611}]}}}<BR>\n",
       "          <b>Temporal coverage</b>: {'RangeDateTime': {'BeginningDateTime': '2000-03-01T00:00:00.000Z', 'EndingDateTime': '2013-11-30T23:59:59.000Z'}}<BR>\n",
       "          <b>Size(MB):</b> 20.3075 <BR>\n",
       "          <b>Data</b>: <a href=\"https://data.lpdaac.earthdatacloud.nasa.gov/lp-prod-protected/ASTGTM.003/ASTGTMV003_N19E006_dem.tif\" target=\"_blank\">https://data.lpdaac.earthdatacloud.nasa.gov/lp-prod-protected/ASTGTM.003/ASTGTMV003_N19E006_dem.tif</a><BR><a href=\"https://data.lpdaac.earthdatacloud.nasa.gov/lp-prod-protected/ASTGTM.003/ASTGTMV003_N19E006_num.tif\" target=\"_blank\">https://data.lpdaac.earthdatacloud.nasa.gov/lp-prod-protected/ASTGTM.003/ASTGTMV003_N19E006_num.tif</a><BR><BR>\n",
       "          <span><img src=\"https://data.lpdaac.earthdatacloud.nasa.gov/lp-prod-public/ASTGTM.003/ASTGTMV003_N19E006.1.jpg\" width=\"340px\" /></span>\n",
       "        </p>\n",
       "        "
      ],
      "text/plain": [
       "Collection: {'ShortName': 'ASTGTM', 'Version': '003'}\n",
       "Spatial coverage: {'HorizontalSpatialDomain': {'Geometry': {'BoundingRectangles': [{'WestBoundingCoordinate': 5.9998611, 'EastBoundingCoordinate': 7.0001389, 'NorthBoundingCoordinate': 20.0001389, 'SouthBoundingCoordinate': 18.9998611}]}}}\n",
       "Temporal coverage: {'RangeDateTime': {'BeginningDateTime': '2000-03-01T00:00:00.000Z', 'EndingDateTime': '2013-11-30T23:59:59.000Z'}}\n",
       "Size(MB): 20.3075\n",
       "Data: ['https://data.lpdaac.earthdatacloud.nasa.gov/lp-prod-protected/ASTGTM.003/ASTGTMV003_N19E006_dem.tif', 'https://data.lpdaac.earthdatacloud.nasa.gov/lp-prod-protected/ASTGTM.003/ASTGTMV003_N19E006_num.tif']"
      ]
     },
     "metadata": {},
     "output_type": "display_data"
    },
    {
     "data": {
      "text/html": [
       "\n",
       "        <p>\n",
       "          <b>Collection</b>: {'ShortName': 'ASTGTM', 'Version': '003'}<BR>\n",
       "          <b>Spatial coverage</b>: {'HorizontalSpatialDomain': {'Geometry': {'BoundingRectangles': [{'WestBoundingCoordinate': 2.9998611, 'EastBoundingCoordinate': 4.0001389, 'NorthBoundingCoordinate': 20.0001389, 'SouthBoundingCoordinate': 18.9998611}]}}}<BR>\n",
       "          <b>Temporal coverage</b>: {'RangeDateTime': {'BeginningDateTime': '2000-03-01T00:00:00.000Z', 'EndingDateTime': '2013-11-30T23:59:59.000Z'}}<BR>\n",
       "          <b>Size(MB):</b> 20.2201 <BR>\n",
       "          <b>Data</b>: <a href=\"https://data.lpdaac.earthdatacloud.nasa.gov/lp-prod-protected/ASTGTM.003/ASTGTMV003_N19E003_dem.tif\" target=\"_blank\">https://data.lpdaac.earthdatacloud.nasa.gov/lp-prod-protected/ASTGTM.003/ASTGTMV003_N19E003_dem.tif</a><BR><a href=\"https://data.lpdaac.earthdatacloud.nasa.gov/lp-prod-protected/ASTGTM.003/ASTGTMV003_N19E003_num.tif\" target=\"_blank\">https://data.lpdaac.earthdatacloud.nasa.gov/lp-prod-protected/ASTGTM.003/ASTGTMV003_N19E003_num.tif</a><BR><BR>\n",
       "          <span><img src=\"https://data.lpdaac.earthdatacloud.nasa.gov/lp-prod-public/ASTGTM.003/ASTGTMV003_N19E003.1.jpg\" width=\"340px\" /></span>\n",
       "        </p>\n",
       "        "
      ],
      "text/plain": [
       "Collection: {'ShortName': 'ASTGTM', 'Version': '003'}\n",
       "Spatial coverage: {'HorizontalSpatialDomain': {'Geometry': {'BoundingRectangles': [{'WestBoundingCoordinate': 2.9998611, 'EastBoundingCoordinate': 4.0001389, 'NorthBoundingCoordinate': 20.0001389, 'SouthBoundingCoordinate': 18.9998611}]}}}\n",
       "Temporal coverage: {'RangeDateTime': {'BeginningDateTime': '2000-03-01T00:00:00.000Z', 'EndingDateTime': '2013-11-30T23:59:59.000Z'}}\n",
       "Size(MB): 20.2201\n",
       "Data: ['https://data.lpdaac.earthdatacloud.nasa.gov/lp-prod-protected/ASTGTM.003/ASTGTMV003_N19E003_dem.tif', 'https://data.lpdaac.earthdatacloud.nasa.gov/lp-prod-protected/ASTGTM.003/ASTGTMV003_N19E003_num.tif']"
      ]
     },
     "metadata": {},
     "output_type": "display_data"
    },
    {
     "data": {
      "text/html": [
       "\n",
       "        <p>\n",
       "          <b>Collection</b>: {'ShortName': 'ASTGTM', 'Version': '003'}<BR>\n",
       "          <b>Spatial coverage</b>: {'HorizontalSpatialDomain': {'Geometry': {'BoundingRectangles': [{'WestBoundingCoordinate': 3.9998611, 'EastBoundingCoordinate': 5.0001389, 'NorthBoundingCoordinate': 20.0001389, 'SouthBoundingCoordinate': 18.9998611}]}}}<BR>\n",
       "          <b>Temporal coverage</b>: {'RangeDateTime': {'BeginningDateTime': '2000-03-01T00:00:00.000Z', 'EndingDateTime': '2013-11-30T23:59:59.000Z'}}<BR>\n",
       "          <b>Size(MB):</b> 19.4686 <BR>\n",
       "          <b>Data</b>: <a href=\"https://data.lpdaac.earthdatacloud.nasa.gov/lp-prod-protected/ASTGTM.003/ASTGTMV003_N19E004_dem.tif\" target=\"_blank\">https://data.lpdaac.earthdatacloud.nasa.gov/lp-prod-protected/ASTGTM.003/ASTGTMV003_N19E004_dem.tif</a><BR><a href=\"https://data.lpdaac.earthdatacloud.nasa.gov/lp-prod-protected/ASTGTM.003/ASTGTMV003_N19E004_num.tif\" target=\"_blank\">https://data.lpdaac.earthdatacloud.nasa.gov/lp-prod-protected/ASTGTM.003/ASTGTMV003_N19E004_num.tif</a><BR><BR>\n",
       "          <span><img src=\"https://data.lpdaac.earthdatacloud.nasa.gov/lp-prod-public/ASTGTM.003/ASTGTMV003_N19E004.1.jpg\" width=\"340px\" /></span>\n",
       "        </p>\n",
       "        "
      ],
      "text/plain": [
       "Collection: {'ShortName': 'ASTGTM', 'Version': '003'}\n",
       "Spatial coverage: {'HorizontalSpatialDomain': {'Geometry': {'BoundingRectangles': [{'WestBoundingCoordinate': 3.9998611, 'EastBoundingCoordinate': 5.0001389, 'NorthBoundingCoordinate': 20.0001389, 'SouthBoundingCoordinate': 18.9998611}]}}}\n",
       "Temporal coverage: {'RangeDateTime': {'BeginningDateTime': '2000-03-01T00:00:00.000Z', 'EndingDateTime': '2013-11-30T23:59:59.000Z'}}\n",
       "Size(MB): 19.4686\n",
       "Data: ['https://data.lpdaac.earthdatacloud.nasa.gov/lp-prod-protected/ASTGTM.003/ASTGTMV003_N19E004_dem.tif', 'https://data.lpdaac.earthdatacloud.nasa.gov/lp-prod-protected/ASTGTM.003/ASTGTMV003_N19E004_num.tif']"
      ]
     },
     "metadata": {},
     "output_type": "display_data"
    },
    {
     "data": {
      "text/html": [
       "\n",
       "        <p>\n",
       "          <b>Collection</b>: {'ShortName': 'ASTGTM', 'Version': '003'}<BR>\n",
       "          <b>Spatial coverage</b>: {'HorizontalSpatialDomain': {'Geometry': {'BoundingRectangles': [{'WestBoundingCoordinate': 6.9998611, 'EastBoundingCoordinate': 8.0001389, 'NorthBoundingCoordinate': 20.0001389, 'SouthBoundingCoordinate': 18.9998611}]}}}<BR>\n",
       "          <b>Temporal coverage</b>: {'RangeDateTime': {'BeginningDateTime': '2000-03-01T00:00:00.000Z', 'EndingDateTime': '2013-11-30T23:59:59.000Z'}}<BR>\n",
       "          <b>Size(MB):</b> 19.4304 <BR>\n",
       "          <b>Data</b>: <a href=\"https://data.lpdaac.earthdatacloud.nasa.gov/lp-prod-protected/ASTGTM.003/ASTGTMV003_N19E007_dem.tif\" target=\"_blank\">https://data.lpdaac.earthdatacloud.nasa.gov/lp-prod-protected/ASTGTM.003/ASTGTMV003_N19E007_dem.tif</a><BR><a href=\"https://data.lpdaac.earthdatacloud.nasa.gov/lp-prod-protected/ASTGTM.003/ASTGTMV003_N19E007_num.tif\" target=\"_blank\">https://data.lpdaac.earthdatacloud.nasa.gov/lp-prod-protected/ASTGTM.003/ASTGTMV003_N19E007_num.tif</a><BR><BR>\n",
       "          <span><img src=\"https://data.lpdaac.earthdatacloud.nasa.gov/lp-prod-public/ASTGTM.003/ASTGTMV003_N19E007.1.jpg\" width=\"340px\" /></span>\n",
       "        </p>\n",
       "        "
      ],
      "text/plain": [
       "Collection: {'ShortName': 'ASTGTM', 'Version': '003'}\n",
       "Spatial coverage: {'HorizontalSpatialDomain': {'Geometry': {'BoundingRectangles': [{'WestBoundingCoordinate': 6.9998611, 'EastBoundingCoordinate': 8.0001389, 'NorthBoundingCoordinate': 20.0001389, 'SouthBoundingCoordinate': 18.9998611}]}}}\n",
       "Temporal coverage: {'RangeDateTime': {'BeginningDateTime': '2000-03-01T00:00:00.000Z', 'EndingDateTime': '2013-11-30T23:59:59.000Z'}}\n",
       "Size(MB): 19.4304\n",
       "Data: ['https://data.lpdaac.earthdatacloud.nasa.gov/lp-prod-protected/ASTGTM.003/ASTGTMV003_N19E007_dem.tif', 'https://data.lpdaac.earthdatacloud.nasa.gov/lp-prod-protected/ASTGTM.003/ASTGTMV003_N19E007_num.tif']"
      ]
     },
     "metadata": {},
     "output_type": "display_data"
    }
   ],
   "source": [
    "for g in granule_search.get(4):\n",
    "    display(g)"
   ]
  },
  {
   "cell_type": "code",
   "execution_count": 7,
   "id": "8c493585-0d48-41bb-8815-6c83ad20ae80",
   "metadata": {},
   "outputs": [
    {
     "data": {
      "text/plain": [
       "[['https://data.lpdaac.earthdatacloud.nasa.gov/lp-prod-protected/ASTGTM.003/ASTGTMV003_N19E006_dem.tif',\n",
       "  'https://data.lpdaac.earthdatacloud.nasa.gov/lp-prod-protected/ASTGTM.003/ASTGTMV003_N19E006_num.tif'],\n",
       " ['https://data.lpdaac.earthdatacloud.nasa.gov/lp-prod-protected/ASTGTM.003/ASTGTMV003_N19E003_dem.tif',\n",
       "  'https://data.lpdaac.earthdatacloud.nasa.gov/lp-prod-protected/ASTGTM.003/ASTGTMV003_N19E003_num.tif'],\n",
       " ['https://data.lpdaac.earthdatacloud.nasa.gov/lp-prod-protected/ASTGTM.003/ASTGTMV003_N19E004_dem.tif',\n",
       "  'https://data.lpdaac.earthdatacloud.nasa.gov/lp-prod-protected/ASTGTM.003/ASTGTMV003_N19E004_num.tif'],\n",
       " ['https://data.lpdaac.earthdatacloud.nasa.gov/lp-prod-protected/ASTGTM.003/ASTGTMV003_N19E007_dem.tif',\n",
       "  'https://data.lpdaac.earthdatacloud.nasa.gov/lp-prod-protected/ASTGTM.003/ASTGTMV003_N19E007_num.tif']]"
      ]
     },
     "execution_count": 7,
     "metadata": {},
     "output_type": "execute_result"
    }
   ],
   "source": [
    "data_links = [g.data_links() for g in granule_search.get(4)]\n",
    "data_links"
   ]
  }
 ],
 "metadata": {
  "kernelspec": {
   "display_name": "Python 3",
   "language": "python",
   "name": "python3"
  },
  "language_info": {
   "codemirror_mode": {
    "name": "ipython",
    "version": 3
   },
   "file_extension": ".py",
   "mimetype": "text/x-python",
   "name": "python",
   "nbconvert_exporter": "python",
   "pygments_lexer": "ipython3",
   "version": "3.8.10"
  }
 },
 "nbformat": 4,
 "nbformat_minor": 5
}
