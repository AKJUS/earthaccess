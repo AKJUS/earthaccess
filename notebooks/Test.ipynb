{
 "cells": [
  {
   "cell_type": "markdown",
   "id": "56ba2387-54e8-4aa5-aedb-c7d90644536f",
   "metadata": {},
   "source": [
    "## CMR API Client\n",
    "The Python way"
   ]
  },
  {
   "cell_type": "code",
   "execution_count": 2,
   "id": "2acb1926-3442-446a-8a35-fcbba8868d4d",
   "metadata": {},
   "outputs": [],
   "source": [
    "from earthdata import Auth, DataGranules, DataCollections\n",
    "# auth = Auth()"
   ]
  },
  {
   "cell_type": "code",
   "execution_count": 3,
   "id": "48cdcd74-dfe3-4b83-93f4-7378a0d981df",
   "metadata": {
    "tags": []
   },
   "outputs": [
    {
     "data": {
      "text/html": [
       "<div id=\"4bbe556e-b904-400c-910b-bc0de19b4c96\" style=\"height: auto; width:100%;\"></div>"
      ],
      "text/plain": [
       "<IPython.core.display.HTML object>"
      ]
     },
     "metadata": {},
     "output_type": "display_data"
    },
    {
     "data": {
      "text/html": [
       "<script>\n",
       "        require([\"https://rawgit.com/caldwell/renderjson/master/renderjson.js\"], function() {\n",
       "          renderjson.set_show_to_level(1)\n",
       "          document.getElementById('4bbe556e-b904-400c-910b-bc0de19b4c96').appendChild(renderjson({\"concept-id\": \"C1979944933-GHRC_DAAC\", \"granule-count\": 1316, \"provider-id\": \"GHRC_DAAC\", \"ShortName\": \"smgeo\", \"Abstract\": \"The Sediment Analysis Network for Decision Support (SANDS) MODIS GeoTIFF dataset consists of the set of GeoTIFF images provided to the Geological Survey of Alabama for their analysis. These are seasonal data for storms. The Sediment Analysis Network for Decision Support (SANDS) analyzes GeoTIFF images to determine sediment redistribution after a hurricane on the Gulf coast and then creates a product based on the analysis.\", \"SpatialExtent\": {\"SpatialCoverageType\": \"HORIZONTAL\", \"HorizontalSpatialDomain\": {\"Geometry\": {\"CoordinateSystem\": \"CARTESIAN\", \"BoundingRectangles\": [{\"WestBoundingCoordinate\": -90.0021, \"NorthBoundingCoordinate\": 31.0125, \"EastBoundingCoordinate\": -84.25, \"SouthBoundingCoordinate\": 27.0}]}}, \"GranuleSpatialRepresentation\": \"CARTESIAN\"}, \"TemporalExtents\": [{\"EndsAtPresentFlag\": false, \"RangeDateTimes\": [{\"BeginningDateTime\": \"2000-09-11T16:00:00.000Z\", \"EndingDateTime\": \"2008-09-09T19:55:00.000Z\"}]}], \"DataCenters\": [{\"Roles\": [\"ARCHIVER\"], \"ShortName\": \"NASA/MSFC/GHRC\"}, {\"Roles\": [\"ARCHIVER\"], \"ShortName\": \"Global Hydrometeorology Resource Center, Marshall Space Flight Center, NASA\", \"ContactInformation\": {\"ContactMechanisms\": [{\"Type\": \"Telephone\", \"Value\": \"+1 256-961-7932\"}, {\"Type\": \"Fax\", \"Value\": \"+1 256-824-5149\"}, {\"Type\": \"Email\", \"Value\": \"support-ghrc@earthdata.nasa.gov\"}], \"Addresses\": [{\"StreetAddresses\": [\"320 Sparkman Drive\"], \"City\": \"Huntsville\", \"StateProvince\": \"Alabama\", \"Country\": \"USA\", \"PostalCode\": \"35805\"}]}}], \"RelatedUrls\": [{\"Description\": \"Files may be downloaded directly to your workstation from this link\", \"URLContentType\": \"DistributionURL\", \"Type\": \"GET DATA\", \"URL\": \"https://ghrc.nsstc.nasa.gov/pub/SANDS/MODIS/GeoTIFF/\"}, {\"Description\": \"The guide document contains detailed information about the dataset\", \"URLContentType\": \"PublicationURL\", \"Type\": \"VIEW RELATED INFORMATION\", \"Subtype\": \"GENERAL DOCUMENTATION\", \"URL\": \"http://ghrc.nsstc.nasa.gov/uso/ds_docs/sands/modis/sands_modis_dataset.html\"}, {\"Description\": \"The home page for the project or program which sponsored the dataset\", \"URLContentType\": \"CollectionURL\", \"Type\": \"PROJECT HOME PAGE\", \"URL\": \"http://projects.itsc.uah.edu/sands/\"}, {\"Description\": \"Instructions for citing GHRC data\", \"URLContentType\": \"PublicationURL\", \"Type\": \"VIEW RELATED INFORMATION\", \"Subtype\": \"GENERAL DOCUMENTATION\", \"URL\": \"https://ghrc.nsstc.nasa.gov/home/about-ghrc/citing-ghrc-daac-data\"}], \"ArchiveAndDistributionInformation\": {\"FileDistributionInformation\": [{\"FormatType\": \"Native\", \"Fees\": \"0.0\", \"Format\": \"ASCII - TIFF\"}]}}))\n",
       "        });</script>\n",
       "        "
      ],
      "text/plain": [
       "<IPython.core.display.HTML object>"
      ]
     },
     "metadata": {},
     "output_type": "display_data"
    },
    {
     "data": {
      "text/html": [
       "<div id=\"18d8ce58-abe0-4937-8585-50023dadad6e\" style=\"height: auto; width:100%;\"></div>"
      ],
      "text/plain": [
       "<IPython.core.display.HTML object>"
      ]
     },
     "metadata": {},
     "output_type": "display_data"
    },
    {
     "data": {
      "text/html": [
       "<script>\n",
       "        require([\"https://rawgit.com/caldwell/renderjson/master/renderjson.js\"], function() {\n",
       "          renderjson.set_show_to_level(1)\n",
       "          document.getElementById('18d8ce58-abe0-4937-8585-50023dadad6e').appendChild(renderjson({\"concept-id\": \"C1979946492-GHRC_DAAC\", \"granule-count\": 684, \"provider-id\": \"GHRC_DAAC\", \"ShortName\": \"smsub\", \"Abstract\": \"Sediment Analysis Network for Decision Support (SANDS) MODIS Gulf Subsetted dataset consists of daytime images for Terra and Aqua MODIS Reflectance bands 8-16, subsetted to 31-27N latitude and 90-84.25W longitude (Gulf of Mexico coastline in Alabama and portions of Florida) from September 11, 2000 to September 9, 2008. These are seasonal data for storms. The Sediment Analysis Network for Decision Support (SANDS) analyzes GeoTIFF images to determine sediment redistribution after a hurricane on the Gulf coast and then creates a product based on the analysis.\", \"SpatialExtent\": {\"SpatialCoverageType\": \"HORIZONTAL\", \"HorizontalSpatialDomain\": {\"Geometry\": {\"CoordinateSystem\": \"CARTESIAN\", \"BoundingRectangles\": [{\"WestBoundingCoordinate\": -114.391, \"NorthBoundingCoordinate\": 34.561, \"EastBoundingCoordinate\": -60.2855, \"SouthBoundingCoordinate\": 23.6847}]}}, \"GranuleSpatialRepresentation\": \"CARTESIAN\"}, \"TemporalExtents\": [{\"EndsAtPresentFlag\": false, \"RangeDateTimes\": [{\"BeginningDateTime\": \"2000-09-11T16:00:00.000Z\", \"EndingDateTime\": \"2008-09-09T19:55:00.000Z\"}]}], \"DataCenters\": [{\"Roles\": [\"ARCHIVER\"], \"ShortName\": \"NASA/MSFC/GHRC\"}, {\"Roles\": [\"ARCHIVER\"], \"ShortName\": \"Global Hydrometeorology Resource Center, Marshall Space Flight Center, NASA\", \"ContactInformation\": {\"ContactMechanisms\": [{\"Type\": \"Telephone\", \"Value\": \"+1 256-961-7932\"}, {\"Type\": \"Fax\", \"Value\": \"+1 256-824-5149\"}, {\"Type\": \"Email\", \"Value\": \"support-ghrc@earthdata.nasa.gov\"}], \"Addresses\": [{\"StreetAddresses\": [\"320 Sparkman Drive\"], \"City\": \"Huntsville\", \"StateProvince\": \"Alabama\", \"Country\": \"USA\", \"PostalCode\": \"35805\"}]}}], \"RelatedUrls\": [{\"Description\": \"Files may be downloaded directly to your workstation from this link\", \"URLContentType\": \"DistributionURL\", \"Type\": \"GET DATA\", \"URL\": \"https://ghrc.nsstc.nasa.gov/pub/SANDS/MODIS/HDF-EOS-Subset/\"}, {\"Description\": \"The guide document contains detailed information about the dataset\", \"URLContentType\": \"PublicationURL\", \"Type\": \"VIEW RELATED INFORMATION\", \"Subtype\": \"GENERAL DOCUMENTATION\", \"URL\": \"http://ghrc.nsstc.nasa.gov/uso/ds_docs/sands/modis/sands_modis_dataset.html\"}, {\"Description\": \"The home page for the project or program which sponsored the dataset\", \"URLContentType\": \"CollectionURL\", \"Type\": \"PROJECT HOME PAGE\", \"URL\": \"http://projects.itsc.uah.edu/sands/\"}, {\"Description\": \"Instructions for citing GHRC data\", \"URLContentType\": \"PublicationURL\", \"Type\": \"VIEW RELATED INFORMATION\", \"Subtype\": \"GENERAL DOCUMENTATION\", \"URL\": \"https://ghrc.nsstc.nasa.gov/home/about-ghrc/citing-ghrc-daac-data\"}], \"ArchiveAndDistributionInformation\": {\"FileDistributionInformation\": [{\"FormatType\": \"Native\", \"Fees\": \"0.0\", \"Format\": \"HDF4\"}]}}))\n",
       "        });</script>\n",
       "        "
      ],
      "text/plain": [
       "<IPython.core.display.HTML object>"
      ]
     },
     "metadata": {},
     "output_type": "display_data"
    },
    {
     "data": {
      "text/html": [
       "<div id=\"db26900e-42b1-4c3b-9829-58b265f2358e\" style=\"height: auto; width:100%;\"></div>"
      ],
      "text/plain": [
       "<IPython.core.display.HTML object>"
      ]
     },
     "metadata": {},
     "output_type": "display_data"
    },
    {
     "data": {
      "text/html": [
       "<script>\n",
       "        require([\"https://rawgit.com/caldwell/renderjson/master/renderjson.js\"], function() {\n",
       "          renderjson.set_show_to_level(1)\n",
       "          document.getElementById('db26900e-42b1-4c3b-9829-58b265f2358e').appendChild(renderjson({\"concept-id\": \"C1940473819-POCLOUD\", \"granule-count\": 2308181, \"provider-id\": \"POCLOUD\", \"ShortName\": \"MODIS_A-JPL-L2P-v2019.0\", \"Abstract\": \"NASA produces skin sea surface temperature (SST) products from the Infrared (IR) channels of the Moderate-resolution Imaging Spectroradiometer (MODIS) onboard the Aqua satellite. Aqua was launched by NASA on May 4, 2002, into a sun synchronous, polar orbit with a daylight ascending node at 1:30 pm, formation flying in the A-train with other Earth Observation Satellites (EOS), to study the global dynamics of the Earth atmosphere, land and oceans. MODIS captures data in 36 spectral bands at a variety of spatial resolutions.  Two SST products can be present in these files. The first is a skin SST produced for both day and night (NSST) observations, derived from the long wave IR 11 and 12 micron wavelength channels, using a modified nonlinear SST algorithm intended to provide continuity of SST derived from heritage and current NASA sensors. At night, a second SST product is generated using the mid-infrared 3.95 and 4.05 micron  wavelength channels which are unique to MODIS; the SST derived from these measurements is identified as SST4. The SST4 product has lower uncertainty, but due to sun glint can only be used at night. MODIS L2P SST data have a 1 km spatial resolution at nadir and are stored in 288 five minute granules per day. Full global coverage is obtained every two days, with coverage poleward of 32.3 degree being complete each day.  The production of MODIS L2P SST files is part of the Group for High Resolution Sea Surface Temperature (GHRSST) project and is a joint collaboration between the NASA Jet Propulsion Laboratory (JPL), the NASA Ocean Biology Processing Group (OBPG), and the Rosenstiel School of Marine and Atmospheric Science (RSMAS). Researchers at RSMAS are responsible for SST algorithm development, error statistics and quality flagging, while the OBPG, as the NASA ground data system, is responsible for the production of daily MODIS ocean products. JPL acquires MODIS ocean granules from the OBPG and reformats them to the GHRSST L2P netCDF specification with complete metadata and ancillary variables, and distributes the data as the official Physical Oceanography Data Archive (PO.DAAC) for SST.  The R2019.0 supersedes the previous R2014.0 datasets which can be found at https://doi.org/10.5067/GHMDA-2PJ02\", \"SpatialExtent\": {\"SpatialCoverageType\": \"HORIZONTAL_ORBITAL\", \"HorizontalSpatialDomain\": {\"Geometry\": {\"CoordinateSystem\": \"CARTESIAN\", \"BoundingRectangles\": [{\"NorthBoundingCoordinate\": 90.0, \"WestBoundingCoordinate\": -180.0, \"EastBoundingCoordinate\": 180.0, \"SouthBoundingCoordinate\": -90.0}]}, \"ResolutionAndCoordinateSystem\": {\"Description\": \"Projection Type: Satellite native swath, Projection Detail: Geolocation information included for each pixel\", \"GeodeticModel\": {\"HorizontalDatumName\": \"World Geodetic System 1984\", \"EllipsoidName\": \"WGS 84\", \"SemiMajorAxis\": 6378137.0, \"DenominatorOfFlatteningRatio\": 298.2572236}, \"HorizontalDataResolution\": {\"GenericResolutions\": [{\"XDimension\": 1000.0, \"YDimension\": 1000.0, \"Unit\": \"Meters\"}]}}}, \"OrbitParameters\": {\"SwathWidth\": 2330.0, \"Period\": 98.4, \"InclinationAngle\": 98.1, \"NumberOfOrbits\": 1.0}, \"GranuleSpatialRepresentation\": \"CARTESIAN\"}, \"TemporalExtents\": [{\"RangeDateTimes\": [{\"BeginningDateTime\": \"2002-07-04T00:00:00.000Z\"}]}], \"DataCenters\": [{\"Roles\": [\"ARCHIVER\"], \"ShortName\": \"NASA/JPL/PODAAC\", \"LongName\": \"Physical Oceanography Distributed Active Archive Center, Jet Propulsion Laboratory, NASA\", \"ContactInformation\": {\"ContactInstruction\": \"podaac@podaac.jpl.nasa.gov\", \"RelatedUrls\": [{\"URLContentType\": \"DataCenterURL\", \"Type\": \"HOME PAGE\", \"URL\": \"https://podaac.jpl.nasa.gov/\"}]}, \"ContactGroups\": [{\"Roles\": [\"Data Center Contact\"], \"GroupName\": \"Help Desk\", \"ContactInformation\": {\"ContactMechanisms\": [{\"Type\": \"Email\", \"Value\": \"podaac@podaac.jpl.nasa.gov\"}], \"RelatedUrls\": [{\"URLContentType\": \"DataContactURL\", \"Type\": \"HOME PAGE\", \"URL\": \"https://podaac.jpl.nasa.gov/\"}]}}]}, {\"Roles\": [\"PROCESSOR\"], \"ShortName\": \"NASA/JPL/PODAAC\", \"LongName\": \"Physical Oceanography Distributed Active Archive Center, Jet Propulsion Laboratory, NASA\", \"ContactInformation\": {\"ContactInstruction\": \"podaac@podaac.jpl.nasa.gov\", \"RelatedUrls\": [{\"URLContentType\": \"DataCenterURL\", \"Type\": \"HOME PAGE\", \"URL\": \"https://podaac.jpl.nasa.gov/\"}]}}, {\"Roles\": [\"DISTRIBUTOR\"], \"ShortName\": \"NASA/JPL/PODAAC\", \"LongName\": \"Physical Oceanography Distributed Active Archive Center, Jet Propulsion Laboratory, NASA\", \"ContactInformation\": {\"ContactInstruction\": \"podaac@podaac.jpl.nasa.gov\", \"RelatedUrls\": [{\"URLContentType\": \"DataCenterURL\", \"Type\": \"HOME PAGE\", \"URL\": \"https://podaac.jpl.nasa.gov/\"}]}}], \"RelatedUrls\": [{\"Description\": \"Thumbnail\", \"URLContentType\": \"VisualizationURL\", \"Type\": \"GET RELATED VISUALIZATION\", \"URL\": \"https://podaac.jpl.nasa.gov/Podaac/thumbnails/MODIS_A-JPL-L2P-v2019.0.jpg\"}, {\"Description\": \"Generic data readers\", \"URLContentType\": \"PublicationURL\", \"Type\": \"VIEW RELATED INFORMATION\", \"Subtype\": \"DATA RECIPE\", \"URL\": \"https://github.com/podaac/data-readers\"}, {\"Description\": \"Documentation on the GDS version 2 format specification\", \"URLContentType\": \"PublicationURL\", \"Type\": \"VIEW RELATED INFORMATION\", \"Subtype\": \"USER'S GUIDE\", \"URL\": \"https://podaac-tools.jpl.nasa.gov/drive/files/OceanTemperature/ghrsst/docs/GDS20r5.pdf\"}, {\"Description\": \"Group for High Resolution Sea Surface Temperature information\", \"URLContentType\": \"PublicationURL\", \"Type\": \"VIEW RELATED INFORMATION\", \"Subtype\": \"GENERAL DOCUMENTATION\", \"URL\": \"https://ghrsst.jpl.nasa.gov\"}, {\"Description\": \"Data Quality Flag description \", \"URLContentType\": \"PublicationURL\", \"Type\": \"VIEW RELATED INFORMATION\", \"Subtype\": \"GENERAL DOCUMENTATION\", \"URL\": \"https://oceancolor.gsfc.nasa.gov/atbd/sst/flag/\"}, {\"Description\": \"Release Notes\", \"URLContentType\": \"PublicationURL\", \"Type\": \"VIEW RELATED INFORMATION\", \"Subtype\": \"PROCESSING HISTORY\", \"URL\": \"https://oceancolor.gsfc.nasa.gov/reprocessing/r2019/sst/\"}, {\"Description\": \"Short-Wave Sea Surface Temperature (SST4) documentation\", \"URLContentType\": \"PublicationURL\", \"Type\": \"VIEW RELATED INFORMATION\", \"Subtype\": \"ALGORITHM DOCUMENTATION\", \"URL\": \"https://oceancolor.gsfc.nasa.gov/atbd/sst4/\"}, {\"Description\": \"Algorithm Theoretical Basis Document\", \"URLContentType\": \"PublicationURL\", \"Type\": \"VIEW RELATED INFORMATION\", \"Subtype\": \"ALGORITHM THEORETICAL BASIS DOCUMENT (ATBD)\", \"URL\": \"https://modis.gsfc.nasa.gov/data/atbd/atbd_mod25.pdf\"}, {\"Description\": \"Long-Wave Sea Surface Temperature (SST4) documentation\", \"URLContentType\": \"PublicationURL\", \"Type\": \"VIEW RELATED INFORMATION\", \"Subtype\": \"ALGORITHM DOCUMENTATION\", \"URL\": \"https://oceancolor.gsfc.nasa.gov/atbd/sst/\"}, {\"Description\": \"GHRSST Project Office homepage\", \"URLContentType\": \"PublicationURL\", \"Type\": \"VIEW RELATED INFORMATION\", \"Subtype\": \"GENERAL DOCUMENTATION\", \"URL\": \"http://www.ghrsst.org\"}, {\"Description\": \"PO.DAAC Forum Page\", \"URLContentType\": \"PublicationURL\", \"Type\": \"VIEW RELATED INFORMATION\", \"Subtype\": \"GENERAL DOCUMENTATION\", \"URL\": \"https://podaac.jpl.nasa.gov/forum/viewforum.php?f=18&sid=e2d67e5a01815fc6e39fcd2087ed8bc8\"}, {\"Description\": \"Data Use and Citation Policy \", \"URLContentType\": \"PublicationURL\", \"Type\": \"VIEW RELATED INFORMATION\", \"Subtype\": \"DATA CITATION POLICY\", \"URL\": \"https://podaac.jpl.nasa.gov/CitingPODAAC\"}, {\"Description\": \"HTTPS endpoint for data browse and download\", \"URLContentType\": \"DistributionURL\", \"Type\": \"GET DATA\", \"Subtype\": \"DATA TREE\", \"URL\": \"https://cmr.earthdata.nasa.gov/virtual-directory/collections/C1940473819-POCLOUD\", \"GetData\": {\"Format\": \"netCDF-4 classic\", \"MimeType\": \"application/x-netcdf\", \"Size\": 75.0, \"Unit\": \"MB\"}}, {\"Description\": \"Jupyter python notebook to create a gridded \\\"data cube\\\"\", \"URLContentType\": \"PublicationURL\", \"Type\": \"VIEW RELATED INFORMATION\", \"Subtype\": \"DATA RECIPE\", \"URL\": \"https://github.com/podaac/tutorials/blob/master/notebooks/MODIS_L2P_SST_DataCube.ipynb\"}, {\"Description\": \"Browse granule search results in Earthdata Search\", \"URLContentType\": \"DistributionURL\", \"Type\": \"GET DATA\", \"Subtype\": \"Earthdata Search\", \"URL\": \"https://search.earthdata.nasa.gov/search/granules?p=C1940473819-POCLOUD\"}], \"ArchiveAndDistributionInformation\": {\"FileArchiveInformation\": [{\"Format\": \"netCDF-4\", \"FormatType\": \"Native\", \"AverageFileSize\": 25.0, \"AverageFileSizeUnit\": \"MB\", \"TotalCollectionFileSizeBeginDate\": \"2002-06-01T00:00:00.000Z\"}], \"FileDistributionInformation\": [{\"Format\": \"netCDF-4\", \"FormatType\": \"Native\", \"AverageFileSize\": 25.0, \"AverageFileSizeUnit\": \"MB\", \"TotalCollectionFileSizeBeginDate\": \"2002-06-01T00:00:00.000Z\"}]}}))\n",
       "        });</script>\n",
       "        "
      ],
      "text/plain": [
       "<IPython.core.display.HTML object>"
      ]
     },
     "metadata": {},
     "output_type": "display_data"
    },
    {
     "data": {
      "text/html": [
       "<div id=\"b13442bc-de56-405a-a9b2-94c0bd7e699a\" style=\"height: auto; width:100%;\"></div>"
      ],
      "text/plain": [
       "<IPython.core.display.HTML object>"
      ]
     },
     "metadata": {},
     "output_type": "display_data"
    },
    {
     "data": {
      "text/html": [
       "<script>\n",
       "        require([\"https://rawgit.com/caldwell/renderjson/master/renderjson.js\"], function() {\n",
       "          renderjson.set_show_to_level(1)\n",
       "          document.getElementById('b13442bc-de56-405a-a9b2-94c0bd7e699a').appendChild(renderjson({\"concept-id\": \"C1940475563-POCLOUD\", \"granule-count\": 2544579, \"provider-id\": \"POCLOUD\", \"ShortName\": \"MODIS_T-JPL-L2P-v2019.0\", \"Abstract\": \"NASA produces skin sea surface temperature (SST) products from the Infrared (IR) channels of the Moderate-resolution Imaging Spectroradiometer (MODIS) onboard the Terra satellite. Terra was launched by NASA on December 18, 1999, into a sun synchronous, polar orbit with a daylight descending node at 10:30 am, to study the global dynamics of the Earth atmosphere, land and oceans. The MODIS captures data in 36 spectral bands at a variety of spatial resolutions.  Two SST products can be present in these files. The first is a skin SST produced for both day and night observations, derived from the long wave IR 11 and 12 micron wavelength channels, using a modified nonlinear SST algorithm intended to provide continuity with SST derived from heritage and current NASA sensors. At night, a second SST product is produced using the mid-infrared 3.95 and 4.05 micron channels which are unique to MODIS; the SST derived from these measurements is identified as SST4. The SST4 product has lower uncertainty, but due to sun glint can only be produced at night. MODIS L2P SST data have a 1 km spatial resolution at nadir and are stored in 288 five minute granules per day. Full global coverage is obtained every two days, with coverage poleward of 32.3 degree being complete each day. The production of MODIS L2P SST files is part of the Group for High Resolution Sea Surface Temperature (GHRSST) project, and is a joint collaboration between the NASA Jet Propulsion Laboratory (JPL), the NASA Ocean Biology Processing Group (OBPG), and the Rosenstiel School of Marine and Atmospheric Science (RSMAS). Researchers at RSMAS are responsible for SST algorithm development, error statistics and quality flagging, while the OBPG, as the NASA ground data system, is responsible for the production of daily MODIS ocean products. JPL acquires MODIS ocean granules from the OBPG and reformats them to the GHRSST L2P netCDF specification with complete metadata and ancillary variables, and distributes the data as the official Physical Oceanography Data Archive (PO.DAAC) for SST.  The R2019.0 supersedes the previous R2014.0 datasets which can be found at  https://doi.org/10.5067/GHMDT-2PJ02\", \"SpatialExtent\": {\"SpatialCoverageType\": \"HORIZONTAL_ORBITAL\", \"HorizontalSpatialDomain\": {\"Geometry\": {\"CoordinateSystem\": \"CARTESIAN\", \"BoundingRectangles\": [{\"NorthBoundingCoordinate\": 90.0, \"WestBoundingCoordinate\": -180.0, \"EastBoundingCoordinate\": 180.0, \"SouthBoundingCoordinate\": -90.0}]}, \"ResolutionAndCoordinateSystem\": {\"Description\": \"Projection Type: Satellite native swath, Projection Detail: Geolocation information included for each pixel\", \"GeodeticModel\": {\"HorizontalDatumName\": \"World Geodetic System 1984\", \"EllipsoidName\": \"WGS 84\", \"SemiMajorAxis\": 6378137.0, \"DenominatorOfFlatteningRatio\": 298.2572236}, \"HorizontalDataResolution\": {\"GenericResolutions\": [{\"XDimension\": 1000.0, \"YDimension\": 1000.0, \"Unit\": \"Meters\"}]}}}, \"OrbitParameters\": {\"SwathWidth\": 2330.0, \"Period\": 98.8, \"InclinationAngle\": 98.2, \"NumberOfOrbits\": 1.0}, \"GranuleSpatialRepresentation\": \"CARTESIAN\"}, \"TemporalExtents\": [{\"RangeDateTimes\": [{\"BeginningDateTime\": \"2000-02-24T00:00:00.000Z\"}]}], \"DataCenters\": [{\"Roles\": [\"PROCESSOR\"], \"ShortName\": \"NASA/JPL/PODAAC\", \"LongName\": \"Physical Oceanography Distributed Active Archive Center, Jet Propulsion Laboratory, NASA\", \"ContactInformation\": {\"ContactInstruction\": \"podaac@podaac.jpl.nasa.gov\", \"RelatedUrls\": [{\"URLContentType\": \"DataCenterURL\", \"Type\": \"HOME PAGE\", \"URL\": \"https://podaac.jpl.nasa.gov/\"}]}, \"ContactGroups\": [{\"Roles\": [\"Data Center Contact\"], \"GroupName\": \"Help Desk\", \"ContactInformation\": {\"ContactInstruction\": \"podaac@podaac.jpl.nasa.gov\", \"RelatedUrls\": [{\"URLContentType\": \"DataContactURL\", \"Type\": \"HOME PAGE\", \"URL\": \"https://podaac.jpl.nasa.gov/\"}]}}]}, {\"Roles\": [\"ARCHIVER\"], \"ShortName\": \"NASA/JPL/PODAAC\", \"LongName\": \"Physical Oceanography Distributed Active Archive Center, Jet Propulsion Laboratory, NASA\", \"ContactInformation\": {\"ContactInstruction\": \"podaac@podaac.jpl.nasa.gov\", \"RelatedUrls\": [{\"URLContentType\": \"DataCenterURL\", \"Type\": \"HOME PAGE\", \"URL\": \"https://podaac.jpl.nasa.gov/\"}]}}, {\"Roles\": [\"DISTRIBUTOR\"], \"ShortName\": \"NASA/JPL/PODAAC\", \"LongName\": \"Physical Oceanography Distributed Active Archive Center, Jet Propulsion Laboratory, NASA\", \"ContactInformation\": {\"ContactInstruction\": \"podaac@podaac.jpl.nasa.gov\", \"RelatedUrls\": [{\"URLContentType\": \"DataCenterURL\", \"Type\": \"HOME PAGE\", \"URL\": \"https://podaac.jpl.nasa.gov/\"}]}}], \"RelatedUrls\": [{\"Description\": \"Documentation on the GDS version 2 format specification\", \"URLContentType\": \"PublicationURL\", \"Type\": \"VIEW RELATED INFORMATION\", \"Subtype\": \"USER'S GUIDE\", \"URL\": \"https://podaac-tools.jpl.nasa.gov/drive/files/OceanTemperature/ghrsst/docs/GDS20r5.pdf\"}, {\"Description\": \"Short-Wave Sea Surface Temperature (SST4) documentation\", \"URLContentType\": \"PublicationURL\", \"Type\": \"VIEW RELATED INFORMATION\", \"Subtype\": \"ALGORITHM DOCUMENTATION\", \"URL\": \"https://oceancolor.gsfc.nasa.gov/atbd/sst4/\"}, {\"Description\": \"Release Notes\", \"URLContentType\": \"PublicationURL\", \"Type\": \"VIEW RELATED INFORMATION\", \"Subtype\": \"PROCESSING HISTORY\", \"URL\": \"https://oceancolor.gsfc.nasa.gov/reprocessing/r2019/sst/\"}, {\"Description\": \"Data Quality Flag description\", \"URLContentType\": \"PublicationURL\", \"Type\": \"VIEW RELATED INFORMATION\", \"Subtype\": \"GENERAL DOCUMENTATION\", \"URL\": \"https://oceancolor.gsfc.nasa.gov/atbd/sst/flag/\"}, {\"Description\": \"Group for High Resolution Sea Surface Temperature information\", \"URLContentType\": \"PublicationURL\", \"Type\": \"VIEW RELATED INFORMATION\", \"Subtype\": \"GENERAL DOCUMENTATION\", \"URL\": \"https://ghrsst.jpl.nasa.gov\"}, {\"Description\": \"Algorithm Theoretical Basis Document\", \"URLContentType\": \"PublicationURL\", \"Type\": \"VIEW RELATED INFORMATION\", \"Subtype\": \"ALGORITHM THEORETICAL BASIS DOCUMENT (ATBD)\", \"URL\": \"https://modis.gsfc.nasa.gov/data/atbd/atbd_mod25.pdf\"}, {\"Description\": \"Thumbnail\", \"URLContentType\": \"VisualizationURL\", \"Type\": \"GET RELATED VISUALIZATION\", \"URL\": \"https://podaac.jpl.nasa.gov/Podaac/thumbnails/MODIS_T-JPL-L2P-v2019.0.jpg\"}, {\"Description\": \"PO.DAAC User Forum\", \"URLContentType\": \"PublicationURL\", \"Type\": \"VIEW RELATED INFORMATION\", \"Subtype\": \"GENERAL DOCUMENTATION\", \"URL\": \"https://podaac.jpl.nasa.gov/forum/viewforum.php?f=18&sid=e2d67e5a01815fc6e39fcd2087ed8bc8\"}, {\"Description\": \"Long-Wave Sea Surface Temperature (SST) documentation\", \"URLContentType\": \"PublicationURL\", \"Type\": \"VIEW RELATED INFORMATION\", \"Subtype\": \"ALGORITHM DOCUMENTATION\", \"URL\": \"https://oceancolor.gsfc.nasa.gov/atbd/sst/\"}, {\"Description\": \"Generic data readers\", \"URLContentType\": \"PublicationURL\", \"Type\": \"VIEW RELATED INFORMATION\", \"Subtype\": \"DATA RECIPE\", \"URL\": \"https://github.com/podaac/data-readers\"}, {\"Description\": \"GHRSST Project Office homepage\", \"URLContentType\": \"PublicationURL\", \"Type\": \"VIEW RELATED INFORMATION\", \"Subtype\": \"GENERAL DOCUMENTATION\", \"URL\": \"http://www.ghrsst.org\"}, {\"Description\": \"Data Use and Citation Policy \", \"URLContentType\": \"PublicationURL\", \"Type\": \"VIEW RELATED INFORMATION\", \"Subtype\": \"DATA CITATION POLICY\", \"URL\": \"https://podaac.jpl.nasa.gov/CitingPODAAC\"}, {\"Description\": \"HTTPS endpoint for data browse and download\", \"URLContentType\": \"DistributionURL\", \"Type\": \"GET DATA\", \"Subtype\": \"DATA TREE\", \"URL\": \" https://cmr.earthdata.nasa.gov/virtual-directory/collections/C1940475563-POCLOUD\"}, {\"Description\": \"Jupyter python notebook to create a gridded \\\"data cube\\\"\", \"URLContentType\": \"PublicationURL\", \"Type\": \"VIEW RELATED INFORMATION\", \"Subtype\": \"DATA RECIPE\", \"URL\": \"https://github.com/podaac/tutorials/blob/master/notebooks/MODIS_L2P_SST_DataCube.ipynb\"}, {\"Description\": \"Browse granule search results in Earthdata Search\", \"URLContentType\": \"DistributionURL\", \"Type\": \"GET DATA\", \"Subtype\": \"Earthdata Search\", \"URL\": \"https://search.earthdata.nasa.gov/search/granules?p=C1940475563-POCLOUD\"}], \"ArchiveAndDistributionInformation\": {\"FileArchiveInformation\": [{\"Format\": \"netCDF-4\", \"FormatType\": \"Native\", \"AverageFileSize\": 25.0, \"AverageFileSizeUnit\": \"MB\", \"TotalCollectionFileSizeBeginDate\": \"2000-02-24T00:00:00.000Z\"}], \"FileDistributionInformation\": [{\"Format\": \"netCDF-4\", \"FormatType\": \"Native\", \"AverageFileSize\": 25.0, \"AverageFileSizeUnit\": \"MB\", \"TotalCollectionFileSizeBeginDate\": \"2000-02-24T00:00:00.000Z\"}]}}))\n",
       "        });</script>\n",
       "        "
      ],
      "text/plain": [
       "<IPython.core.display.HTML object>"
      ]
     },
     "metadata": {},
     "output_type": "display_data"
    }
   ],
   "source": [
    "# We can now search for collections using a pythonic API client for CMR.\n",
    "# collections = collection_search.keyword('elevation ice').fields(['*']).cloud_hosted(True).get(4)\n",
    "collections = DataCollections().keyword('MODIS').cloud_hosted(True).display(4)"
   ]
  },
  {
   "cell_type": "code",
   "execution_count": 4,
   "id": "aef401af-f107-44a4-8683-6dbbdd6a53fd",
   "metadata": {},
   "outputs": [
    {
     "data": {
      "text/plain": [
       "599"
      ]
     },
     "execution_count": 4,
     "metadata": {},
     "output_type": "execute_result"
    }
   ],
   "source": [
    "granule_search = DataGranules()\n",
    "granule_search.concept_id('C1711961296-LPCLOUD').bounding_box(-10,20,10,50).hits()"
   ]
  },
  {
   "cell_type": "code",
   "execution_count": 6,
   "id": "8aeaa91f-4775-4707-8b72-a12511e70d13",
   "metadata": {},
   "outputs": [
    {
     "data": {
      "text/html": [
       "\n",
       "        <p>\n",
       "          <b>Collection</b>: {'ShortName': 'ASTGTM', 'Version': '003'}<BR>\n",
       "          <b>Spatial coverage</b>: {'HorizontalSpatialDomain': {'Geometry': {'BoundingRectangles': [{'WestBoundingCoordinate': 5.9998611, 'EastBoundingCoordinate': 7.0001389, 'NorthBoundingCoordinate': 20.0001389, 'SouthBoundingCoordinate': 18.9998611}]}}}<BR>\n",
       "          <b>Temporal coverage</b>: {'RangeDateTime': {'BeginningDateTime': '2000-03-01T00:00:00.000Z', 'EndingDateTime': '2013-11-30T23:59:59.000Z'}}<BR>\n",
       "          <b>Size(MB):</b> 20.3075 <BR>\n",
       "          <b>Data</b>: <a href=\"https://data.lpdaac.earthdatacloud.nasa.gov/lp-prod-protected/ASTGTM.003/ASTGTMV003_N19E006_dem.tif\" target=\"_blank\">https://data.lpdaac.earthdatacloud.nasa.gov/lp-prod-protected/ASTGTM.003/ASTGTMV003_N19E006_dem.tif</a><BR><a href=\"https://data.lpdaac.earthdatacloud.nasa.gov/lp-prod-protected/ASTGTM.003/ASTGTMV003_N19E006_num.tif\" target=\"_blank\">https://data.lpdaac.earthdatacloud.nasa.gov/lp-prod-protected/ASTGTM.003/ASTGTMV003_N19E006_num.tif</a><BR><BR>\n",
       "          <span><img src=\"https://data.lpdaac.earthdatacloud.nasa.gov/lp-prod-public/ASTGTM.003/ASTGTMV003_N19E006.1.jpg\" width=\"240px\" /></span>\n",
       "        </p>\n",
       "        "
      ],
      "text/plain": [
       "Collection: {'ShortName': 'ASTGTM', 'Version': '003'}\n",
       "Spatial coverage: {'HorizontalSpatialDomain': {'Geometry': {'BoundingRectangles': [{'WestBoundingCoordinate': 5.9998611, 'EastBoundingCoordinate': 7.0001389, 'NorthBoundingCoordinate': 20.0001389, 'SouthBoundingCoordinate': 18.9998611}]}}}\n",
       "Temporal coverage: {'RangeDateTime': {'BeginningDateTime': '2000-03-01T00:00:00.000Z', 'EndingDateTime': '2013-11-30T23:59:59.000Z'}}\n",
       "Size(MB): 20.3075\n",
       "Data: ['https://data.lpdaac.earthdatacloud.nasa.gov/lp-prod-protected/ASTGTM.003/ASTGTMV003_N19E006_dem.tif', 'https://data.lpdaac.earthdatacloud.nasa.gov/lp-prod-protected/ASTGTM.003/ASTGTMV003_N19E006_num.tif']"
      ]
     },
     "metadata": {},
     "output_type": "display_data"
    },
    {
     "data": {
      "text/html": [
       "\n",
       "        <p>\n",
       "          <b>Collection</b>: {'ShortName': 'ASTGTM', 'Version': '003'}<BR>\n",
       "          <b>Spatial coverage</b>: {'HorizontalSpatialDomain': {'Geometry': {'BoundingRectangles': [{'WestBoundingCoordinate': 2.9998611, 'EastBoundingCoordinate': 4.0001389, 'NorthBoundingCoordinate': 20.0001389, 'SouthBoundingCoordinate': 18.9998611}]}}}<BR>\n",
       "          <b>Temporal coverage</b>: {'RangeDateTime': {'BeginningDateTime': '2000-03-01T00:00:00.000Z', 'EndingDateTime': '2013-11-30T23:59:59.000Z'}}<BR>\n",
       "          <b>Size(MB):</b> 20.2201 <BR>\n",
       "          <b>Data</b>: <a href=\"https://data.lpdaac.earthdatacloud.nasa.gov/lp-prod-protected/ASTGTM.003/ASTGTMV003_N19E003_dem.tif\" target=\"_blank\">https://data.lpdaac.earthdatacloud.nasa.gov/lp-prod-protected/ASTGTM.003/ASTGTMV003_N19E003_dem.tif</a><BR><a href=\"https://data.lpdaac.earthdatacloud.nasa.gov/lp-prod-protected/ASTGTM.003/ASTGTMV003_N19E003_num.tif\" target=\"_blank\">https://data.lpdaac.earthdatacloud.nasa.gov/lp-prod-protected/ASTGTM.003/ASTGTMV003_N19E003_num.tif</a><BR><BR>\n",
       "          <span><img src=\"https://data.lpdaac.earthdatacloud.nasa.gov/lp-prod-public/ASTGTM.003/ASTGTMV003_N19E003.1.jpg\" width=\"240px\" /></span>\n",
       "        </p>\n",
       "        "
      ],
      "text/plain": [
       "Collection: {'ShortName': 'ASTGTM', 'Version': '003'}\n",
       "Spatial coverage: {'HorizontalSpatialDomain': {'Geometry': {'BoundingRectangles': [{'WestBoundingCoordinate': 2.9998611, 'EastBoundingCoordinate': 4.0001389, 'NorthBoundingCoordinate': 20.0001389, 'SouthBoundingCoordinate': 18.9998611}]}}}\n",
       "Temporal coverage: {'RangeDateTime': {'BeginningDateTime': '2000-03-01T00:00:00.000Z', 'EndingDateTime': '2013-11-30T23:59:59.000Z'}}\n",
       "Size(MB): 20.2201\n",
       "Data: ['https://data.lpdaac.earthdatacloud.nasa.gov/lp-prod-protected/ASTGTM.003/ASTGTMV003_N19E003_dem.tif', 'https://data.lpdaac.earthdatacloud.nasa.gov/lp-prod-protected/ASTGTM.003/ASTGTMV003_N19E003_num.tif']"
      ]
     },
     "metadata": {},
     "output_type": "display_data"
    },
    {
     "data": {
      "text/html": [
       "\n",
       "        <p>\n",
       "          <b>Collection</b>: {'ShortName': 'ASTGTM', 'Version': '003'}<BR>\n",
       "          <b>Spatial coverage</b>: {'HorizontalSpatialDomain': {'Geometry': {'BoundingRectangles': [{'WestBoundingCoordinate': 3.9998611, 'EastBoundingCoordinate': 5.0001389, 'NorthBoundingCoordinate': 20.0001389, 'SouthBoundingCoordinate': 18.9998611}]}}}<BR>\n",
       "          <b>Temporal coverage</b>: {'RangeDateTime': {'BeginningDateTime': '2000-03-01T00:00:00.000Z', 'EndingDateTime': '2013-11-30T23:59:59.000Z'}}<BR>\n",
       "          <b>Size(MB):</b> 19.4686 <BR>\n",
       "          <b>Data</b>: <a href=\"https://data.lpdaac.earthdatacloud.nasa.gov/lp-prod-protected/ASTGTM.003/ASTGTMV003_N19E004_dem.tif\" target=\"_blank\">https://data.lpdaac.earthdatacloud.nasa.gov/lp-prod-protected/ASTGTM.003/ASTGTMV003_N19E004_dem.tif</a><BR><a href=\"https://data.lpdaac.earthdatacloud.nasa.gov/lp-prod-protected/ASTGTM.003/ASTGTMV003_N19E004_num.tif\" target=\"_blank\">https://data.lpdaac.earthdatacloud.nasa.gov/lp-prod-protected/ASTGTM.003/ASTGTMV003_N19E004_num.tif</a><BR><BR>\n",
       "          <span><img src=\"https://data.lpdaac.earthdatacloud.nasa.gov/lp-prod-public/ASTGTM.003/ASTGTMV003_N19E004.1.jpg\" width=\"240px\" /></span>\n",
       "        </p>\n",
       "        "
      ],
      "text/plain": [
       "Collection: {'ShortName': 'ASTGTM', 'Version': '003'}\n",
       "Spatial coverage: {'HorizontalSpatialDomain': {'Geometry': {'BoundingRectangles': [{'WestBoundingCoordinate': 3.9998611, 'EastBoundingCoordinate': 5.0001389, 'NorthBoundingCoordinate': 20.0001389, 'SouthBoundingCoordinate': 18.9998611}]}}}\n",
       "Temporal coverage: {'RangeDateTime': {'BeginningDateTime': '2000-03-01T00:00:00.000Z', 'EndingDateTime': '2013-11-30T23:59:59.000Z'}}\n",
       "Size(MB): 19.4686\n",
       "Data: ['https://data.lpdaac.earthdatacloud.nasa.gov/lp-prod-protected/ASTGTM.003/ASTGTMV003_N19E004_dem.tif', 'https://data.lpdaac.earthdatacloud.nasa.gov/lp-prod-protected/ASTGTM.003/ASTGTMV003_N19E004_num.tif']"
      ]
     },
     "metadata": {},
     "output_type": "display_data"
    },
    {
     "data": {
      "text/html": [
       "\n",
       "        <p>\n",
       "          <b>Collection</b>: {'ShortName': 'ASTGTM', 'Version': '003'}<BR>\n",
       "          <b>Spatial coverage</b>: {'HorizontalSpatialDomain': {'Geometry': {'BoundingRectangles': [{'WestBoundingCoordinate': 6.9998611, 'EastBoundingCoordinate': 8.0001389, 'NorthBoundingCoordinate': 20.0001389, 'SouthBoundingCoordinate': 18.9998611}]}}}<BR>\n",
       "          <b>Temporal coverage</b>: {'RangeDateTime': {'BeginningDateTime': '2000-03-01T00:00:00.000Z', 'EndingDateTime': '2013-11-30T23:59:59.000Z'}}<BR>\n",
       "          <b>Size(MB):</b> 19.4304 <BR>\n",
       "          <b>Data</b>: <a href=\"https://data.lpdaac.earthdatacloud.nasa.gov/lp-prod-protected/ASTGTM.003/ASTGTMV003_N19E007_dem.tif\" target=\"_blank\">https://data.lpdaac.earthdatacloud.nasa.gov/lp-prod-protected/ASTGTM.003/ASTGTMV003_N19E007_dem.tif</a><BR><a href=\"https://data.lpdaac.earthdatacloud.nasa.gov/lp-prod-protected/ASTGTM.003/ASTGTMV003_N19E007_num.tif\" target=\"_blank\">https://data.lpdaac.earthdatacloud.nasa.gov/lp-prod-protected/ASTGTM.003/ASTGTMV003_N19E007_num.tif</a><BR><BR>\n",
       "          <span><img src=\"https://data.lpdaac.earthdatacloud.nasa.gov/lp-prod-public/ASTGTM.003/ASTGTMV003_N19E007.1.jpg\" width=\"240px\" /></span>\n",
       "        </p>\n",
       "        "
      ],
      "text/plain": [
       "Collection: {'ShortName': 'ASTGTM', 'Version': '003'}\n",
       "Spatial coverage: {'HorizontalSpatialDomain': {'Geometry': {'BoundingRectangles': [{'WestBoundingCoordinate': 6.9998611, 'EastBoundingCoordinate': 8.0001389, 'NorthBoundingCoordinate': 20.0001389, 'SouthBoundingCoordinate': 18.9998611}]}}}\n",
       "Temporal coverage: {'RangeDateTime': {'BeginningDateTime': '2000-03-01T00:00:00.000Z', 'EndingDateTime': '2013-11-30T23:59:59.000Z'}}\n",
       "Size(MB): 19.4304\n",
       "Data: ['https://data.lpdaac.earthdatacloud.nasa.gov/lp-prod-protected/ASTGTM.003/ASTGTMV003_N19E007_dem.tif', 'https://data.lpdaac.earthdatacloud.nasa.gov/lp-prod-protected/ASTGTM.003/ASTGTMV003_N19E007_num.tif']"
      ]
     },
     "metadata": {},
     "output_type": "display_data"
    }
   ],
   "source": [
    "granules = granule_search.display(4)"
   ]
  },
  {
   "cell_type": "code",
   "execution_count": 9,
   "id": "8c493585-0d48-41bb-8815-6c83ad20ae80",
   "metadata": {},
   "outputs": [
    {
     "data": {
      "text/plain": [
       "[{'link: ': ['https://data.lpdaac.earthdatacloud.nasa.gov/lp-prod-protected/ASTGTM.003/ASTGTMV003_N19E006_dem.tif',\n",
       "   'https://data.lpdaac.earthdatacloud.nasa.gov/lp-prod-protected/ASTGTM.003/ASTGTMV003_N19E006_num.tif'],\n",
       "  'size:': 20.3075},\n",
       " {'link: ': ['https://data.lpdaac.earthdatacloud.nasa.gov/lp-prod-protected/ASTGTM.003/ASTGTMV003_N19E003_dem.tif',\n",
       "   'https://data.lpdaac.earthdatacloud.nasa.gov/lp-prod-protected/ASTGTM.003/ASTGTMV003_N19E003_num.tif'],\n",
       "  'size:': 20.2201},\n",
       " {'link: ': ['https://data.lpdaac.earthdatacloud.nasa.gov/lp-prod-protected/ASTGTM.003/ASTGTMV003_N19E004_dem.tif',\n",
       "   'https://data.lpdaac.earthdatacloud.nasa.gov/lp-prod-protected/ASTGTM.003/ASTGTMV003_N19E004_num.tif'],\n",
       "  'size:': 19.4686},\n",
       " {'link: ': ['https://data.lpdaac.earthdatacloud.nasa.gov/lp-prod-protected/ASTGTM.003/ASTGTMV003_N19E007_dem.tif',\n",
       "   'https://data.lpdaac.earthdatacloud.nasa.gov/lp-prod-protected/ASTGTM.003/ASTGTMV003_N19E007_num.tif'],\n",
       "  'size:': 19.4304}]"
      ]
     },
     "execution_count": 9,
     "metadata": {},
     "output_type": "execute_result"
    }
   ],
   "source": [
    "data_links = [{'link: ': g.data_links(), 'size:': g.size()} for g in granules]\n",
    "data_links"
   ]
  }
 ],
 "metadata": {
  "kernelspec": {
   "display_name": "Python 3",
   "language": "python",
   "name": "python3"
  },
  "language_info": {
   "codemirror_mode": {
    "name": "ipython",
    "version": 3
   },
   "file_extension": ".py",
   "mimetype": "text/x-python",
   "name": "python",
   "nbconvert_exporter": "python",
   "pygments_lexer": "ipython3",
   "version": "3.8.10"
  }
 },
 "nbformat": 4,
 "nbformat_minor": 5
}
