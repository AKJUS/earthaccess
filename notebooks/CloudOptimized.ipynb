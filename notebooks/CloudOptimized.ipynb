{
 "cells": [
  {
   "cell_type": "markdown",
   "id": "fed5cdb2-126d-4126-bcee-87b322d114e7",
   "metadata": {},
   "source": [
    "## Cloud Friendly Data\n",
    "\n",
    "Generally speaking, scientific data is rarely stored in a database, instead it is stored in files that represent discrete chunks of the real world. NASA calls these files **granules**.\n",
    "These files usually represent a time range and a geographic area. The data can be encoded in many formats, a simple `csv` file, an Excel spreadsheet, or `NetCDF`, `HDF5`, `GeoTIF` just to list some representative formats. Some points that are important to remember when we use data in the cloud:\n",
    "\n",
    "\n",
    "1. Having data hosted on a cloud provider doesn't automatically make it cloud friendly.\n",
    "2. The file format used to store the data is often more important than where the data is hosted.\n",
    "3. Cloud-friendly formats allow partial access based on byte-range reads i.e. Cloud Optimized GeoTIF (COG), Zarr, custom web services.\n",
    "4. Some scientific data formats could be accessed in a \"cloud\" way if they have metadata sidecar files.\n",
    "5. Data can also be served through web services like OpenDAP or custom APIs that may offer cloud-like capabilities for non cloud native sources.\n",
    "\n",
    "**The advantage of cloud friendly data formats**:\n",
    "\n",
    "Moving data is expensive (computationally and monetarily) , the less data we move the better. Cloud-friendly file formats are designed to be efficient with data retrieval. Most of HDF5 files require full file downloads to inspect the data on them, cloud friendly formats can be \"queried\" without having to download the whole file. \n",
    "\n",
    "Note: Cloud-friendly data does not need to be hosted on a cloud provider, however when it's hosted there we have more tools at our disposal to work with it in situ, e.g. Google Earth Engine.\n",
    "\n",
    "\n",
    "\n",
    "## Accessing cloud-friendly data for efficient time series analysis.\n",
    "\n",
    "### Zarr: The Pangeo Way\n",
    "\n",
    "### COG: Just Enough Data\n",
    "\n",
    "## Using HDF5/NetCDF like if they were cloud-friendly: [Zarr EOSDIS]() and [fsspec-reference-maker]()\n",
    "\n",
    "\n"
   ]
  },
  {
   "cell_type": "code",
   "execution_count": null,
   "id": "c6fc046a-d0f1-4f00-b8ab-e2f78874cd04",
   "metadata": {},
   "outputs": [],
   "source": []
  }
 ],
 "metadata": {
  "kernelspec": {
   "display_name": "Python 3 (ipykernel)",
   "language": "python",
   "name": "python3"
  },
  "language_info": {
   "codemirror_mode": {
    "name": "ipython",
    "version": 3
   },
   "file_extension": ".py",
   "mimetype": "text/x-python",
   "name": "python",
   "nbconvert_exporter": "python",
   "pygments_lexer": "ipython3",
   "version": "3.9.7"
  }
 },
 "nbformat": 4,
 "nbformat_minor": 5
}
